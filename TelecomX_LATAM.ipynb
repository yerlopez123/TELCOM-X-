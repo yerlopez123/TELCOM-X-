{
  "nbformat": 4,
  "nbformat_minor": 0,
  "metadata": {
    "colab": {
      "provenance": [],
      "toc_visible": true
    },
    "kernelspec": {
      "name": "python3",
      "display_name": "Python 3"
    },
    "language_info": {
      "name": "python"
    }
  },
  "cells": [
    {
      "cell_type": "markdown",
      "source": [
        "#📌 Extracción"
      ],
      "metadata": {
        "id": "4foVEKhrlqcH"
      }
    },
    {
      "cell_type": "code",
      "source": [
        "# 📌 Paso 1: Importar librerías necesarias\n",
        "import pandas as pd\n",
        "import requests\n",
        "\n",
        "# 📌 Paso 2: Definir la URL del archivo JSON en formato raw\n",
        "url = \"https://raw.githubusercontent.com/ingridcristh/challenge2-data-science-LATAM/main/TelecomX_Data.json\"\n",
        "\n",
        "# 📌 Paso 3: Realizar la solicitud GET para obtener los datos\n",
        "response = requests.get(url)\n",
        "\n",
        "# 📌 Paso 4: Convertir el contenido JSON en un DataFrame de pandas\n",
        "data_json = response.json()\n",
        "df = pd.DataFrame(data_json)\n",
        "\n",
        "# 📌 Paso 5: Mostrar las primeras filas para verificar la carga\n",
        "df.head()"
      ],
      "metadata": {
        "id": "1--uPM88l7JH",
        "colab": {
          "base_uri": "https://localhost:8080/",
          "height": 293
        },
        "outputId": "19df3999-a95d-4d2f-cb5d-cc0d9bd09701"
      },
      "execution_count": 8,
      "outputs": [
        {
          "output_type": "execute_result",
          "data": {
            "text/plain": [
              "   customerID Churn                                           customer  \\\n",
              "0  0002-ORFBO    No  {'gender': 'Female', 'SeniorCitizen': 0, 'Part...   \n",
              "1  0003-MKNFE    No  {'gender': 'Male', 'SeniorCitizen': 0, 'Partne...   \n",
              "2  0004-TLHLJ   Yes  {'gender': 'Male', 'SeniorCitizen': 0, 'Partne...   \n",
              "3  0011-IGKFF   Yes  {'gender': 'Male', 'SeniorCitizen': 1, 'Partne...   \n",
              "4  0013-EXCHZ   Yes  {'gender': 'Female', 'SeniorCitizen': 1, 'Part...   \n",
              "\n",
              "                                             phone  \\\n",
              "0   {'PhoneService': 'Yes', 'MultipleLines': 'No'}   \n",
              "1  {'PhoneService': 'Yes', 'MultipleLines': 'Yes'}   \n",
              "2   {'PhoneService': 'Yes', 'MultipleLines': 'No'}   \n",
              "3   {'PhoneService': 'Yes', 'MultipleLines': 'No'}   \n",
              "4   {'PhoneService': 'Yes', 'MultipleLines': 'No'}   \n",
              "\n",
              "                                            internet  \\\n",
              "0  {'InternetService': 'DSL', 'OnlineSecurity': '...   \n",
              "1  {'InternetService': 'DSL', 'OnlineSecurity': '...   \n",
              "2  {'InternetService': 'Fiber optic', 'OnlineSecu...   \n",
              "3  {'InternetService': 'Fiber optic', 'OnlineSecu...   \n",
              "4  {'InternetService': 'Fiber optic', 'OnlineSecu...   \n",
              "\n",
              "                                             account  \n",
              "0  {'Contract': 'One year', 'PaperlessBilling': '...  \n",
              "1  {'Contract': 'Month-to-month', 'PaperlessBilli...  \n",
              "2  {'Contract': 'Month-to-month', 'PaperlessBilli...  \n",
              "3  {'Contract': 'Month-to-month', 'PaperlessBilli...  \n",
              "4  {'Contract': 'Month-to-month', 'PaperlessBilli...  "
            ],
            "text/html": [
              "\n",
              "  <div id=\"df-03ad7105-c79c-4460-a512-600991d2be47\" class=\"colab-df-container\">\n",
              "    <div>\n",
              "<style scoped>\n",
              "    .dataframe tbody tr th:only-of-type {\n",
              "        vertical-align: middle;\n",
              "    }\n",
              "\n",
              "    .dataframe tbody tr th {\n",
              "        vertical-align: top;\n",
              "    }\n",
              "\n",
              "    .dataframe thead th {\n",
              "        text-align: right;\n",
              "    }\n",
              "</style>\n",
              "<table border=\"1\" class=\"dataframe\">\n",
              "  <thead>\n",
              "    <tr style=\"text-align: right;\">\n",
              "      <th></th>\n",
              "      <th>customerID</th>\n",
              "      <th>Churn</th>\n",
              "      <th>customer</th>\n",
              "      <th>phone</th>\n",
              "      <th>internet</th>\n",
              "      <th>account</th>\n",
              "    </tr>\n",
              "  </thead>\n",
              "  <tbody>\n",
              "    <tr>\n",
              "      <th>0</th>\n",
              "      <td>0002-ORFBO</td>\n",
              "      <td>No</td>\n",
              "      <td>{'gender': 'Female', 'SeniorCitizen': 0, 'Part...</td>\n",
              "      <td>{'PhoneService': 'Yes', 'MultipleLines': 'No'}</td>\n",
              "      <td>{'InternetService': 'DSL', 'OnlineSecurity': '...</td>\n",
              "      <td>{'Contract': 'One year', 'PaperlessBilling': '...</td>\n",
              "    </tr>\n",
              "    <tr>\n",
              "      <th>1</th>\n",
              "      <td>0003-MKNFE</td>\n",
              "      <td>No</td>\n",
              "      <td>{'gender': 'Male', 'SeniorCitizen': 0, 'Partne...</td>\n",
              "      <td>{'PhoneService': 'Yes', 'MultipleLines': 'Yes'}</td>\n",
              "      <td>{'InternetService': 'DSL', 'OnlineSecurity': '...</td>\n",
              "      <td>{'Contract': 'Month-to-month', 'PaperlessBilli...</td>\n",
              "    </tr>\n",
              "    <tr>\n",
              "      <th>2</th>\n",
              "      <td>0004-TLHLJ</td>\n",
              "      <td>Yes</td>\n",
              "      <td>{'gender': 'Male', 'SeniorCitizen': 0, 'Partne...</td>\n",
              "      <td>{'PhoneService': 'Yes', 'MultipleLines': 'No'}</td>\n",
              "      <td>{'InternetService': 'Fiber optic', 'OnlineSecu...</td>\n",
              "      <td>{'Contract': 'Month-to-month', 'PaperlessBilli...</td>\n",
              "    </tr>\n",
              "    <tr>\n",
              "      <th>3</th>\n",
              "      <td>0011-IGKFF</td>\n",
              "      <td>Yes</td>\n",
              "      <td>{'gender': 'Male', 'SeniorCitizen': 1, 'Partne...</td>\n",
              "      <td>{'PhoneService': 'Yes', 'MultipleLines': 'No'}</td>\n",
              "      <td>{'InternetService': 'Fiber optic', 'OnlineSecu...</td>\n",
              "      <td>{'Contract': 'Month-to-month', 'PaperlessBilli...</td>\n",
              "    </tr>\n",
              "    <tr>\n",
              "      <th>4</th>\n",
              "      <td>0013-EXCHZ</td>\n",
              "      <td>Yes</td>\n",
              "      <td>{'gender': 'Female', 'SeniorCitizen': 1, 'Part...</td>\n",
              "      <td>{'PhoneService': 'Yes', 'MultipleLines': 'No'}</td>\n",
              "      <td>{'InternetService': 'Fiber optic', 'OnlineSecu...</td>\n",
              "      <td>{'Contract': 'Month-to-month', 'PaperlessBilli...</td>\n",
              "    </tr>\n",
              "  </tbody>\n",
              "</table>\n",
              "</div>\n",
              "    <div class=\"colab-df-buttons\">\n",
              "\n",
              "  <div class=\"colab-df-container\">\n",
              "    <button class=\"colab-df-convert\" onclick=\"convertToInteractive('df-03ad7105-c79c-4460-a512-600991d2be47')\"\n",
              "            title=\"Convert this dataframe to an interactive table.\"\n",
              "            style=\"display:none;\">\n",
              "\n",
              "  <svg xmlns=\"http://www.w3.org/2000/svg\" height=\"24px\" viewBox=\"0 -960 960 960\">\n",
              "    <path d=\"M120-120v-720h720v720H120Zm60-500h600v-160H180v160Zm220 220h160v-160H400v160Zm0 220h160v-160H400v160ZM180-400h160v-160H180v160Zm440 0h160v-160H620v160ZM180-180h160v-160H180v160Zm440 0h160v-160H620v160Z\"/>\n",
              "  </svg>\n",
              "    </button>\n",
              "\n",
              "  <style>\n",
              "    .colab-df-container {\n",
              "      display:flex;\n",
              "      gap: 12px;\n",
              "    }\n",
              "\n",
              "    .colab-df-convert {\n",
              "      background-color: #E8F0FE;\n",
              "      border: none;\n",
              "      border-radius: 50%;\n",
              "      cursor: pointer;\n",
              "      display: none;\n",
              "      fill: #1967D2;\n",
              "      height: 32px;\n",
              "      padding: 0 0 0 0;\n",
              "      width: 32px;\n",
              "    }\n",
              "\n",
              "    .colab-df-convert:hover {\n",
              "      background-color: #E2EBFA;\n",
              "      box-shadow: 0px 1px 2px rgba(60, 64, 67, 0.3), 0px 1px 3px 1px rgba(60, 64, 67, 0.15);\n",
              "      fill: #174EA6;\n",
              "    }\n",
              "\n",
              "    .colab-df-buttons div {\n",
              "      margin-bottom: 4px;\n",
              "    }\n",
              "\n",
              "    [theme=dark] .colab-df-convert {\n",
              "      background-color: #3B4455;\n",
              "      fill: #D2E3FC;\n",
              "    }\n",
              "\n",
              "    [theme=dark] .colab-df-convert:hover {\n",
              "      background-color: #434B5C;\n",
              "      box-shadow: 0px 1px 3px 1px rgba(0, 0, 0, 0.15);\n",
              "      filter: drop-shadow(0px 1px 2px rgba(0, 0, 0, 0.3));\n",
              "      fill: #FFFFFF;\n",
              "    }\n",
              "  </style>\n",
              "\n",
              "    <script>\n",
              "      const buttonEl =\n",
              "        document.querySelector('#df-03ad7105-c79c-4460-a512-600991d2be47 button.colab-df-convert');\n",
              "      buttonEl.style.display =\n",
              "        google.colab.kernel.accessAllowed ? 'block' : 'none';\n",
              "\n",
              "      async function convertToInteractive(key) {\n",
              "        const element = document.querySelector('#df-03ad7105-c79c-4460-a512-600991d2be47');\n",
              "        const dataTable =\n",
              "          await google.colab.kernel.invokeFunction('convertToInteractive',\n",
              "                                                    [key], {});\n",
              "        if (!dataTable) return;\n",
              "\n",
              "        const docLinkHtml = 'Like what you see? Visit the ' +\n",
              "          '<a target=\"_blank\" href=https://colab.research.google.com/notebooks/data_table.ipynb>data table notebook</a>'\n",
              "          + ' to learn more about interactive tables.';\n",
              "        element.innerHTML = '';\n",
              "        dataTable['output_type'] = 'display_data';\n",
              "        await google.colab.output.renderOutput(dataTable, element);\n",
              "        const docLink = document.createElement('div');\n",
              "        docLink.innerHTML = docLinkHtml;\n",
              "        element.appendChild(docLink);\n",
              "      }\n",
              "    </script>\n",
              "  </div>\n",
              "\n",
              "\n",
              "    <div id=\"df-e2e9b487-8173-42b5-9bc4-2ee8f905bd07\">\n",
              "      <button class=\"colab-df-quickchart\" onclick=\"quickchart('df-e2e9b487-8173-42b5-9bc4-2ee8f905bd07')\"\n",
              "                title=\"Suggest charts\"\n",
              "                style=\"display:none;\">\n",
              "\n",
              "<svg xmlns=\"http://www.w3.org/2000/svg\" height=\"24px\"viewBox=\"0 0 24 24\"\n",
              "     width=\"24px\">\n",
              "    <g>\n",
              "        <path d=\"M19 3H5c-1.1 0-2 .9-2 2v14c0 1.1.9 2 2 2h14c1.1 0 2-.9 2-2V5c0-1.1-.9-2-2-2zM9 17H7v-7h2v7zm4 0h-2V7h2v10zm4 0h-2v-4h2v4z\"/>\n",
              "    </g>\n",
              "</svg>\n",
              "      </button>\n",
              "\n",
              "<style>\n",
              "  .colab-df-quickchart {\n",
              "      --bg-color: #E8F0FE;\n",
              "      --fill-color: #1967D2;\n",
              "      --hover-bg-color: #E2EBFA;\n",
              "      --hover-fill-color: #174EA6;\n",
              "      --disabled-fill-color: #AAA;\n",
              "      --disabled-bg-color: #DDD;\n",
              "  }\n",
              "\n",
              "  [theme=dark] .colab-df-quickchart {\n",
              "      --bg-color: #3B4455;\n",
              "      --fill-color: #D2E3FC;\n",
              "      --hover-bg-color: #434B5C;\n",
              "      --hover-fill-color: #FFFFFF;\n",
              "      --disabled-bg-color: #3B4455;\n",
              "      --disabled-fill-color: #666;\n",
              "  }\n",
              "\n",
              "  .colab-df-quickchart {\n",
              "    background-color: var(--bg-color);\n",
              "    border: none;\n",
              "    border-radius: 50%;\n",
              "    cursor: pointer;\n",
              "    display: none;\n",
              "    fill: var(--fill-color);\n",
              "    height: 32px;\n",
              "    padding: 0;\n",
              "    width: 32px;\n",
              "  }\n",
              "\n",
              "  .colab-df-quickchart:hover {\n",
              "    background-color: var(--hover-bg-color);\n",
              "    box-shadow: 0 1px 2px rgba(60, 64, 67, 0.3), 0 1px 3px 1px rgba(60, 64, 67, 0.15);\n",
              "    fill: var(--button-hover-fill-color);\n",
              "  }\n",
              "\n",
              "  .colab-df-quickchart-complete:disabled,\n",
              "  .colab-df-quickchart-complete:disabled:hover {\n",
              "    background-color: var(--disabled-bg-color);\n",
              "    fill: var(--disabled-fill-color);\n",
              "    box-shadow: none;\n",
              "  }\n",
              "\n",
              "  .colab-df-spinner {\n",
              "    border: 2px solid var(--fill-color);\n",
              "    border-color: transparent;\n",
              "    border-bottom-color: var(--fill-color);\n",
              "    animation:\n",
              "      spin 1s steps(1) infinite;\n",
              "  }\n",
              "\n",
              "  @keyframes spin {\n",
              "    0% {\n",
              "      border-color: transparent;\n",
              "      border-bottom-color: var(--fill-color);\n",
              "      border-left-color: var(--fill-color);\n",
              "    }\n",
              "    20% {\n",
              "      border-color: transparent;\n",
              "      border-left-color: var(--fill-color);\n",
              "      border-top-color: var(--fill-color);\n",
              "    }\n",
              "    30% {\n",
              "      border-color: transparent;\n",
              "      border-left-color: var(--fill-color);\n",
              "      border-top-color: var(--fill-color);\n",
              "      border-right-color: var(--fill-color);\n",
              "    }\n",
              "    40% {\n",
              "      border-color: transparent;\n",
              "      border-right-color: var(--fill-color);\n",
              "      border-top-color: var(--fill-color);\n",
              "    }\n",
              "    60% {\n",
              "      border-color: transparent;\n",
              "      border-right-color: var(--fill-color);\n",
              "    }\n",
              "    80% {\n",
              "      border-color: transparent;\n",
              "      border-right-color: var(--fill-color);\n",
              "      border-bottom-color: var(--fill-color);\n",
              "    }\n",
              "    90% {\n",
              "      border-color: transparent;\n",
              "      border-bottom-color: var(--fill-color);\n",
              "    }\n",
              "  }\n",
              "</style>\n",
              "\n",
              "      <script>\n",
              "        async function quickchart(key) {\n",
              "          const quickchartButtonEl =\n",
              "            document.querySelector('#' + key + ' button');\n",
              "          quickchartButtonEl.disabled = true;  // To prevent multiple clicks.\n",
              "          quickchartButtonEl.classList.add('colab-df-spinner');\n",
              "          try {\n",
              "            const charts = await google.colab.kernel.invokeFunction(\n",
              "                'suggestCharts', [key], {});\n",
              "          } catch (error) {\n",
              "            console.error('Error during call to suggestCharts:', error);\n",
              "          }\n",
              "          quickchartButtonEl.classList.remove('colab-df-spinner');\n",
              "          quickchartButtonEl.classList.add('colab-df-quickchart-complete');\n",
              "        }\n",
              "        (() => {\n",
              "          let quickchartButtonEl =\n",
              "            document.querySelector('#df-e2e9b487-8173-42b5-9bc4-2ee8f905bd07 button');\n",
              "          quickchartButtonEl.style.display =\n",
              "            google.colab.kernel.accessAllowed ? 'block' : 'none';\n",
              "        })();\n",
              "      </script>\n",
              "    </div>\n",
              "\n",
              "    </div>\n",
              "  </div>\n"
            ],
            "application/vnd.google.colaboratory.intrinsic+json": {
              "type": "dataframe",
              "variable_name": "df",
              "summary": "{\n  \"name\": \"df\",\n  \"rows\": 7267,\n  \"fields\": [\n    {\n      \"column\": \"customerID\",\n      \"properties\": {\n        \"dtype\": \"string\",\n        \"num_unique_values\": 7267,\n        \"samples\": [\n          \"2038-OEQZH\",\n          \"6322-HRPFA\",\n          \"3969-JQABI\"\n        ],\n        \"semantic_type\": \"\",\n        \"description\": \"\"\n      }\n    },\n    {\n      \"column\": \"Churn\",\n      \"properties\": {\n        \"dtype\": \"category\",\n        \"num_unique_values\": 3,\n        \"samples\": [\n          \"No\",\n          \"Yes\",\n          \"\"\n        ],\n        \"semantic_type\": \"\",\n        \"description\": \"\"\n      }\n    },\n    {\n      \"column\": \"customer\",\n      \"properties\": {\n        \"dtype\": \"object\",\n        \"semantic_type\": \"\",\n        \"description\": \"\"\n      }\n    },\n    {\n      \"column\": \"phone\",\n      \"properties\": {\n        \"dtype\": \"object\",\n        \"semantic_type\": \"\",\n        \"description\": \"\"\n      }\n    },\n    {\n      \"column\": \"internet\",\n      \"properties\": {\n        \"dtype\": \"object\",\n        \"semantic_type\": \"\",\n        \"description\": \"\"\n      }\n    },\n    {\n      \"column\": \"account\",\n      \"properties\": {\n        \"dtype\": \"object\",\n        \"semantic_type\": \"\",\n        \"description\": \"\"\n      }\n    }\n  ]\n}"
            }
          },
          "metadata": {},
          "execution_count": 8
        }
      ]
    },
    {
      "cell_type": "markdown",
      "source": [
        "#🔧 Transformación"
      ],
      "metadata": {
        "id": "1lSZP8zmmGZu"
      }
    },
    {
      "cell_type": "code",
      "source": [
        "# Ver columnas y tipos de datos\n",
        "df.info()\n",
        "\n",
        "# Alternativamente\n",
        "df.dtypes"
      ],
      "metadata": {
        "id": "bsm-WTLjmHvt",
        "colab": {
          "base_uri": "https://localhost:8080/",
          "height": 498
        },
        "outputId": "6bda70b5-b442-4e20-d6d3-39a1a77b6f0d"
      },
      "execution_count": 2,
      "outputs": [
        {
          "output_type": "stream",
          "name": "stdout",
          "text": [
            "<class 'pandas.core.frame.DataFrame'>\n",
            "RangeIndex: 7267 entries, 0 to 7266\n",
            "Data columns (total 6 columns):\n",
            " #   Column      Non-Null Count  Dtype \n",
            "---  ------      --------------  ----- \n",
            " 0   customerID  7267 non-null   object\n",
            " 1   Churn       7267 non-null   object\n",
            " 2   customer    7267 non-null   object\n",
            " 3   phone       7267 non-null   object\n",
            " 4   internet    7267 non-null   object\n",
            " 5   account     7267 non-null   object\n",
            "dtypes: object(6)\n",
            "memory usage: 340.8+ KB\n"
          ]
        },
        {
          "output_type": "execute_result",
          "data": {
            "text/plain": [
              "customerID    object\n",
              "Churn         object\n",
              "customer      object\n",
              "phone         object\n",
              "internet      object\n",
              "account       object\n",
              "dtype: object"
            ],
            "text/html": [
              "<div>\n",
              "<style scoped>\n",
              "    .dataframe tbody tr th:only-of-type {\n",
              "        vertical-align: middle;\n",
              "    }\n",
              "\n",
              "    .dataframe tbody tr th {\n",
              "        vertical-align: top;\n",
              "    }\n",
              "\n",
              "    .dataframe thead th {\n",
              "        text-align: right;\n",
              "    }\n",
              "</style>\n",
              "<table border=\"1\" class=\"dataframe\">\n",
              "  <thead>\n",
              "    <tr style=\"text-align: right;\">\n",
              "      <th></th>\n",
              "      <th>0</th>\n",
              "    </tr>\n",
              "  </thead>\n",
              "  <tbody>\n",
              "    <tr>\n",
              "      <th>customerID</th>\n",
              "      <td>object</td>\n",
              "    </tr>\n",
              "    <tr>\n",
              "      <th>Churn</th>\n",
              "      <td>object</td>\n",
              "    </tr>\n",
              "    <tr>\n",
              "      <th>customer</th>\n",
              "      <td>object</td>\n",
              "    </tr>\n",
              "    <tr>\n",
              "      <th>phone</th>\n",
              "      <td>object</td>\n",
              "    </tr>\n",
              "    <tr>\n",
              "      <th>internet</th>\n",
              "      <td>object</td>\n",
              "    </tr>\n",
              "    <tr>\n",
              "      <th>account</th>\n",
              "      <td>object</td>\n",
              "    </tr>\n",
              "  </tbody>\n",
              "</table>\n",
              "</div><br><label><b>dtype:</b> object</label>"
            ]
          },
          "metadata": {},
          "execution_count": 2
        }
      ]
    },
    {
      "cell_type": "code",
      "source": [
        "# Verificar tipos de datos detalladamente\n",
        "df.applymap(type).nunique()"
      ],
      "metadata": {
        "colab": {
          "base_uri": "https://localhost:8080/",
          "height": 307
        },
        "id": "ROu3wfIgEcLx",
        "outputId": "96f40b78-b485-4155-8205-2a16174ac5a8"
      },
      "execution_count": 9,
      "outputs": [
        {
          "output_type": "stream",
          "name": "stderr",
          "text": [
            "/tmp/ipython-input-3702349118.py:2: FutureWarning: DataFrame.applymap has been deprecated. Use DataFrame.map instead.\n",
            "  df.applymap(type).nunique()\n"
          ]
        },
        {
          "output_type": "execute_result",
          "data": {
            "text/plain": [
              "customerID    1\n",
              "Churn         1\n",
              "customer      1\n",
              "phone         1\n",
              "internet      1\n",
              "account       1\n",
              "dtype: int64"
            ],
            "text/html": [
              "<div>\n",
              "<style scoped>\n",
              "    .dataframe tbody tr th:only-of-type {\n",
              "        vertical-align: middle;\n",
              "    }\n",
              "\n",
              "    .dataframe tbody tr th {\n",
              "        vertical-align: top;\n",
              "    }\n",
              "\n",
              "    .dataframe thead th {\n",
              "        text-align: right;\n",
              "    }\n",
              "</style>\n",
              "<table border=\"1\" class=\"dataframe\">\n",
              "  <thead>\n",
              "    <tr style=\"text-align: right;\">\n",
              "      <th></th>\n",
              "      <th>0</th>\n",
              "    </tr>\n",
              "  </thead>\n",
              "  <tbody>\n",
              "    <tr>\n",
              "      <th>customerID</th>\n",
              "      <td>1</td>\n",
              "    </tr>\n",
              "    <tr>\n",
              "      <th>Churn</th>\n",
              "      <td>1</td>\n",
              "    </tr>\n",
              "    <tr>\n",
              "      <th>customer</th>\n",
              "      <td>1</td>\n",
              "    </tr>\n",
              "    <tr>\n",
              "      <th>phone</th>\n",
              "      <td>1</td>\n",
              "    </tr>\n",
              "    <tr>\n",
              "      <th>internet</th>\n",
              "      <td>1</td>\n",
              "    </tr>\n",
              "    <tr>\n",
              "      <th>account</th>\n",
              "      <td>1</td>\n",
              "    </tr>\n",
              "  </tbody>\n",
              "</table>\n",
              "</div><br><label><b>dtype:</b> int64</label>"
            ]
          },
          "metadata": {},
          "execution_count": 9
        }
      ]
    },
    {
      "cell_type": "code",
      "source": [
        "# Verificar el tipo de cada celda en cada columna\n",
        "for col in df.columns:\n",
        "    tipos = df[col].apply(type).unique()\n",
        "    print(f\"{col}: {tipos}\")"
      ],
      "metadata": {
        "colab": {
          "base_uri": "https://localhost:8080/"
        },
        "id": "-zLjRDYyEqX-",
        "outputId": "ca59797e-d36d-4dc9-b6b5-0e79088d17f0"
      },
      "execution_count": 10,
      "outputs": [
        {
          "output_type": "stream",
          "name": "stdout",
          "text": [
            "customerID: [<class 'str'>]\n",
            "Churn: [<class 'str'>]\n",
            "customer: [<class 'dict'>]\n",
            "phone: [<class 'dict'>]\n",
            "internet: [<class 'dict'>]\n",
            "account: [<class 'dict'>]\n"
          ]
        }
      ]
    },
    {
      "cell_type": "code",
      "source": [
        "# Normalizar columnas anidadas\n",
        "from pandas import json_normalize\n",
        "\n",
        "# Normalizar cada columna que contenga diccionarios\n",
        "for col in ['customer', 'phone', 'internet', 'account']:\n",
        "    if df[col].apply(lambda x: isinstance(x, dict)).all():\n",
        "        normalized = json_normalize(df[col])\n",
        "        normalized.columns = [f\"{col}_{subcol}\" for subcol in normalized.columns]\n",
        "        df = pd.concat([df.drop(columns=col), normalized], axis=1)"
      ],
      "metadata": {
        "id": "Okc0DYMxFGt-"
      },
      "execution_count": 12,
      "outputs": []
    },
    {
      "cell_type": "code",
      "source": [
        "# Ahora sí puedes verificar duplicados\n",
        "print(\"🔍 Duplicados después de normalizar:\")\n",
        "print(df.duplicated().sum())"
      ],
      "metadata": {
        "colab": {
          "base_uri": "https://localhost:8080/"
        },
        "id": "746oeFmjFJSB",
        "outputId": "c9a9c6ef-3fa0-46df-f635-24d451768b3a"
      },
      "execution_count": 13,
      "outputs": [
        {
          "output_type": "stream",
          "name": "stdout",
          "text": [
            "🔍 Duplicados después de normalizar:\n",
            "0\n"
          ]
        }
      ]
    },
    {
      "cell_type": "code",
      "source": [
        "from pandas import json_normalize\n",
        "\n",
        "def normalize_nested_columns(df, nested_cols):\n",
        "    for col in nested_cols:\n",
        "        if col in df.columns:\n",
        "            if df[col].apply(lambda x: isinstance(x, dict)).all():\n",
        "                normalized = json_normalize(df[col])\n",
        "                normalized.columns = [f\"{col}_{subcol}\" for subcol in normalized.columns]\n",
        "                df = pd.concat([df.drop(columns=col), normalized], axis=1)\n",
        "    return df\n",
        "\n",
        "# Lista de columnas que podrían estar anidadas\n",
        "nested_columns = ['customer', 'phone', 'internet', 'account']\n",
        "df = normalize_nested_columns(df, nested_columns)"
      ],
      "metadata": {
        "id": "Y_qeCOcCFMFl"
      },
      "execution_count": 14,
      "outputs": []
    },
    {
      "cell_type": "code",
      "source": [
        "# Verificamos que la columna de facturación mensual exista\n",
        "if 'account_MonthlyCharges' in df.columns:\n",
        "    # Cálculo aproximado: mensual / 30.44 días\n",
        "    df['Cuentas_Diarias'] = df['account_MonthlyCharges'] / 30.44\n",
        "\n",
        "    # Vista previa\n",
        "    print(df[['account_MonthlyCharges', 'Cuentas_Diarias']].head())\n",
        "else:\n",
        "    print(\"❌ La columna 'account_MonthlyCharges' no fue encontrada.\")"
      ],
      "metadata": {
        "colab": {
          "base_uri": "https://localhost:8080/"
        },
        "id": "FUYntA6MFgZH",
        "outputId": "63f3b7bf-c4fd-44d0-c09e-ee0bcd3479aa"
      },
      "execution_count": 15,
      "outputs": [
        {
          "output_type": "stream",
          "name": "stdout",
          "text": [
            "❌ La columna 'account_MonthlyCharges' no fue encontrada.\n"
          ]
        }
      ]
    },
    {
      "cell_type": "code",
      "source": [
        "# Convertir 'Churn' a binario\n",
        "df['Churn'] = df['Churn'].map({'Sí': 1, 'No': 0})\n",
        "\n",
        "# Convertir otras columnas similares si existen\n",
        "binarias = ['customer_Partner', 'customer_Dependents', 'account_PaperlessBilling']\n",
        "for col in binarias:\n",
        "    if col in df.columns:\n",
        "        df[col] = df[col].map({'Sí': 1, 'No': 0})\n",
        ""
      ],
      "metadata": {
        "id": "Yup_nvyOFuC-"
      },
      "execution_count": 16,
      "outputs": []
    },
    {
      "cell_type": "code",
      "source": [
        "# Renombrar columnas clave\n",
        "df.rename(columns={\n",
        "    'account_MonthlyCharges': 'Cargos_Mensuales',\n",
        "    'account_TotalCharges': 'Cargos_Totales',\n",
        "    'account_PaymentMethod': 'Metodo_Pago',\n",
        "    'internet_InternetService': 'Tipo_Internet',\n",
        "    'contract_Contract': 'Tipo_Contrato'\n",
        "}, inplace=True)"
      ],
      "metadata": {
        "id": "FhEWdlQPF1B2"
      },
      "execution_count": 17,
      "outputs": []
    },
    {
      "cell_type": "code",
      "source": [
        "print(\"📋 Columnas después de estandarización:\")\n",
        "print(df.columns.tolist())\n",
        "\n",
        "print(\"\\n🔍 Vista previa:\")\n",
        "print(df.head())"
      ],
      "metadata": {
        "colab": {
          "base_uri": "https://localhost:8080/"
        },
        "id": "DpDpI8z6F3mV",
        "outputId": "e1d50b2d-b42e-45f5-cae1-4f03a2b247d2"
      },
      "execution_count": 18,
      "outputs": [
        {
          "output_type": "stream",
          "name": "stdout",
          "text": [
            "📋 Columnas después de estandarización:\n",
            "['customerID', 'Churn', 'customer_gender', 'customer_SeniorCitizen', 'customer_Partner', 'customer_Dependents', 'customer_tenure', 'phone_PhoneService', 'phone_MultipleLines', 'Tipo_Internet', 'internet_OnlineSecurity', 'internet_OnlineBackup', 'internet_DeviceProtection', 'internet_TechSupport', 'internet_StreamingTV', 'internet_StreamingMovies', 'account_Contract', 'account_PaperlessBilling', 'Metodo_Pago', 'account_Charges.Monthly', 'account_Charges.Total']\n",
            "\n",
            "🔍 Vista previa:\n",
            "   customerID  Churn customer_gender  customer_SeniorCitizen  \\\n",
            "0  0002-ORFBO    0.0          Female                       0   \n",
            "1  0003-MKNFE    0.0            Male                       0   \n",
            "2  0004-TLHLJ    NaN            Male                       0   \n",
            "3  0011-IGKFF    NaN            Male                       1   \n",
            "4  0013-EXCHZ    NaN          Female                       1   \n",
            "\n",
            "   customer_Partner  customer_Dependents  customer_tenure phone_PhoneService  \\\n",
            "0               NaN                  NaN                9                Yes   \n",
            "1               0.0                  0.0                9                Yes   \n",
            "2               0.0                  0.0                4                Yes   \n",
            "3               NaN                  0.0               13                Yes   \n",
            "4               NaN                  0.0                3                Yes   \n",
            "\n",
            "  phone_MultipleLines Tipo_Internet  ... internet_OnlineBackup  \\\n",
            "0                  No           DSL  ...                   Yes   \n",
            "1                 Yes           DSL  ...                    No   \n",
            "2                  No   Fiber optic  ...                    No   \n",
            "3                  No   Fiber optic  ...                   Yes   \n",
            "4                  No   Fiber optic  ...                    No   \n",
            "\n",
            "  internet_DeviceProtection internet_TechSupport internet_StreamingTV  \\\n",
            "0                        No                  Yes                  Yes   \n",
            "1                        No                   No                   No   \n",
            "2                       Yes                   No                   No   \n",
            "3                       Yes                   No                  Yes   \n",
            "4                        No                  Yes                  Yes   \n",
            "\n",
            "  internet_StreamingMovies account_Contract account_PaperlessBilling  \\\n",
            "0                       No         One year                      NaN   \n",
            "1                      Yes   Month-to-month                      0.0   \n",
            "2                       No   Month-to-month                      NaN   \n",
            "3                      Yes   Month-to-month                      NaN   \n",
            "4                       No   Month-to-month                      NaN   \n",
            "\n",
            "        Metodo_Pago account_Charges.Monthly  account_Charges.Total  \n",
            "0      Mailed check                    65.6                  593.3  \n",
            "1      Mailed check                    59.9                  542.4  \n",
            "2  Electronic check                    73.9                 280.85  \n",
            "3  Electronic check                    98.0                1237.85  \n",
            "4      Mailed check                    83.9                  267.4  \n",
            "\n",
            "[5 rows x 21 columns]\n"
          ]
        }
      ]
    },
    {
      "cell_type": "markdown",
      "source": [
        "#📊 Carga y análisis"
      ],
      "metadata": {
        "id": "6XnTC2NTmMRL"
      }
    },
    {
      "cell_type": "code",
      "source": [
        "print(\"📋 Columnas actuales:\")\n",
        "print(df.columns.tolist())"
      ],
      "metadata": {
        "id": "1jgUnLqTmPdd",
        "colab": {
          "base_uri": "https://localhost:8080/"
        },
        "outputId": "9c167553-8dfa-4138-f841-74e98476709e"
      },
      "execution_count": 19,
      "outputs": [
        {
          "output_type": "stream",
          "name": "stdout",
          "text": [
            "📋 Columnas actuales:\n",
            "['customerID', 'Churn', 'customer_gender', 'customer_SeniorCitizen', 'customer_Partner', 'customer_Dependents', 'customer_tenure', 'phone_PhoneService', 'phone_MultipleLines', 'Tipo_Internet', 'internet_OnlineSecurity', 'internet_OnlineBackup', 'internet_DeviceProtection', 'internet_TechSupport', 'internet_StreamingTV', 'internet_StreamingMovies', 'account_Contract', 'account_PaperlessBilling', 'Metodo_Pago', 'account_Charges.Monthly', 'account_Charges.Total']\n"
          ]
        }
      ]
    },
    {
      "cell_type": "code",
      "source": [
        "numericas = [\n",
        "    'customer_tenure',\n",
        "    'account_MonthlyCharges',\n",
        "    'account_TotalCharges',\n",
        "    'Cuentas_Diarias'  # solo si ya la creaste\n",
        "]"
      ],
      "metadata": {
        "id": "kvEu5b0-GL-i"
      },
      "execution_count": 20,
      "outputs": []
    },
    {
      "cell_type": "code",
      "source": [
        "print(\"📋 Columnas disponibles en el DataFrame:\")\n",
        "print(df.columns.tolist())"
      ],
      "metadata": {
        "colab": {
          "base_uri": "https://localhost:8080/"
        },
        "id": "4a9Snzm_GO9m",
        "outputId": "14f9d0df-9c07-4314-ec62-fcadfc70f94b"
      },
      "execution_count": 21,
      "outputs": [
        {
          "output_type": "stream",
          "name": "stdout",
          "text": [
            "📋 Columnas disponibles en el DataFrame:\n",
            "['customerID', 'Churn', 'customer_gender', 'customer_SeniorCitizen', 'customer_Partner', 'customer_Dependents', 'customer_tenure', 'phone_PhoneService', 'phone_MultipleLines', 'Tipo_Internet', 'internet_OnlineSecurity', 'internet_OnlineBackup', 'internet_DeviceProtection', 'internet_TechSupport', 'internet_StreamingTV', 'internet_StreamingMovies', 'account_Contract', 'account_PaperlessBilling', 'Metodo_Pago', 'account_Charges.Monthly', 'account_Charges.Total']\n"
          ]
        }
      ]
    },
    {
      "cell_type": "code",
      "source": [
        "# Detectar columnas numéricas automáticamente\n",
        "numericas = df.select_dtypes(include=['int64', 'float64']).columns.tolist()\n",
        "\n",
        "# Mostrar análisis descriptivo\n",
        "df[numericas].describe().T"
      ],
      "metadata": {
        "colab": {
          "base_uri": "https://localhost:8080/",
          "height": 269
        },
        "id": "J3aV3z-PG0gd",
        "outputId": "22b9873a-8f54-46e0-8332-d5166a2e7ee5"
      },
      "execution_count": 22,
      "outputs": [
        {
          "output_type": "execute_result",
          "data": {
            "text/plain": [
              "                           count       mean        std    min     25%   50%  \\\n",
              "Churn                     5174.0   0.000000   0.000000   0.00   0.000   0.0   \n",
              "customer_SeniorCitizen    7267.0   0.162653   0.369074   0.00   0.000   0.0   \n",
              "customer_Partner          3749.0   0.000000   0.000000   0.00   0.000   0.0   \n",
              "customer_Dependents       5086.0   0.000000   0.000000   0.00   0.000   0.0   \n",
              "customer_tenure           7267.0  32.346498  24.571773   0.00   9.000  29.0   \n",
              "account_PaperlessBilling  2956.0   0.000000   0.000000   0.00   0.000   0.0   \n",
              "account_Charges.Monthly   7267.0  64.720098  30.129572  18.25  35.425  70.3   \n",
              "\n",
              "                             75%     max  \n",
              "Churn                      0.000    0.00  \n",
              "customer_SeniorCitizen     0.000    1.00  \n",
              "customer_Partner           0.000    0.00  \n",
              "customer_Dependents        0.000    0.00  \n",
              "customer_tenure           55.000   72.00  \n",
              "account_PaperlessBilling   0.000    0.00  \n",
              "account_Charges.Monthly   89.875  118.75  "
            ],
            "text/html": [
              "\n",
              "  <div id=\"df-07f9a6f4-809a-4437-81f0-078b594c4ae8\" class=\"colab-df-container\">\n",
              "    <div>\n",
              "<style scoped>\n",
              "    .dataframe tbody tr th:only-of-type {\n",
              "        vertical-align: middle;\n",
              "    }\n",
              "\n",
              "    .dataframe tbody tr th {\n",
              "        vertical-align: top;\n",
              "    }\n",
              "\n",
              "    .dataframe thead th {\n",
              "        text-align: right;\n",
              "    }\n",
              "</style>\n",
              "<table border=\"1\" class=\"dataframe\">\n",
              "  <thead>\n",
              "    <tr style=\"text-align: right;\">\n",
              "      <th></th>\n",
              "      <th>count</th>\n",
              "      <th>mean</th>\n",
              "      <th>std</th>\n",
              "      <th>min</th>\n",
              "      <th>25%</th>\n",
              "      <th>50%</th>\n",
              "      <th>75%</th>\n",
              "      <th>max</th>\n",
              "    </tr>\n",
              "  </thead>\n",
              "  <tbody>\n",
              "    <tr>\n",
              "      <th>Churn</th>\n",
              "      <td>5174.0</td>\n",
              "      <td>0.000000</td>\n",
              "      <td>0.000000</td>\n",
              "      <td>0.00</td>\n",
              "      <td>0.000</td>\n",
              "      <td>0.0</td>\n",
              "      <td>0.000</td>\n",
              "      <td>0.00</td>\n",
              "    </tr>\n",
              "    <tr>\n",
              "      <th>customer_SeniorCitizen</th>\n",
              "      <td>7267.0</td>\n",
              "      <td>0.162653</td>\n",
              "      <td>0.369074</td>\n",
              "      <td>0.00</td>\n",
              "      <td>0.000</td>\n",
              "      <td>0.0</td>\n",
              "      <td>0.000</td>\n",
              "      <td>1.00</td>\n",
              "    </tr>\n",
              "    <tr>\n",
              "      <th>customer_Partner</th>\n",
              "      <td>3749.0</td>\n",
              "      <td>0.000000</td>\n",
              "      <td>0.000000</td>\n",
              "      <td>0.00</td>\n",
              "      <td>0.000</td>\n",
              "      <td>0.0</td>\n",
              "      <td>0.000</td>\n",
              "      <td>0.00</td>\n",
              "    </tr>\n",
              "    <tr>\n",
              "      <th>customer_Dependents</th>\n",
              "      <td>5086.0</td>\n",
              "      <td>0.000000</td>\n",
              "      <td>0.000000</td>\n",
              "      <td>0.00</td>\n",
              "      <td>0.000</td>\n",
              "      <td>0.0</td>\n",
              "      <td>0.000</td>\n",
              "      <td>0.00</td>\n",
              "    </tr>\n",
              "    <tr>\n",
              "      <th>customer_tenure</th>\n",
              "      <td>7267.0</td>\n",
              "      <td>32.346498</td>\n",
              "      <td>24.571773</td>\n",
              "      <td>0.00</td>\n",
              "      <td>9.000</td>\n",
              "      <td>29.0</td>\n",
              "      <td>55.000</td>\n",
              "      <td>72.00</td>\n",
              "    </tr>\n",
              "    <tr>\n",
              "      <th>account_PaperlessBilling</th>\n",
              "      <td>2956.0</td>\n",
              "      <td>0.000000</td>\n",
              "      <td>0.000000</td>\n",
              "      <td>0.00</td>\n",
              "      <td>0.000</td>\n",
              "      <td>0.0</td>\n",
              "      <td>0.000</td>\n",
              "      <td>0.00</td>\n",
              "    </tr>\n",
              "    <tr>\n",
              "      <th>account_Charges.Monthly</th>\n",
              "      <td>7267.0</td>\n",
              "      <td>64.720098</td>\n",
              "      <td>30.129572</td>\n",
              "      <td>18.25</td>\n",
              "      <td>35.425</td>\n",
              "      <td>70.3</td>\n",
              "      <td>89.875</td>\n",
              "      <td>118.75</td>\n",
              "    </tr>\n",
              "  </tbody>\n",
              "</table>\n",
              "</div>\n",
              "    <div class=\"colab-df-buttons\">\n",
              "\n",
              "  <div class=\"colab-df-container\">\n",
              "    <button class=\"colab-df-convert\" onclick=\"convertToInteractive('df-07f9a6f4-809a-4437-81f0-078b594c4ae8')\"\n",
              "            title=\"Convert this dataframe to an interactive table.\"\n",
              "            style=\"display:none;\">\n",
              "\n",
              "  <svg xmlns=\"http://www.w3.org/2000/svg\" height=\"24px\" viewBox=\"0 -960 960 960\">\n",
              "    <path d=\"M120-120v-720h720v720H120Zm60-500h600v-160H180v160Zm220 220h160v-160H400v160Zm0 220h160v-160H400v160ZM180-400h160v-160H180v160Zm440 0h160v-160H620v160ZM180-180h160v-160H180v160Zm440 0h160v-160H620v160Z\"/>\n",
              "  </svg>\n",
              "    </button>\n",
              "\n",
              "  <style>\n",
              "    .colab-df-container {\n",
              "      display:flex;\n",
              "      gap: 12px;\n",
              "    }\n",
              "\n",
              "    .colab-df-convert {\n",
              "      background-color: #E8F0FE;\n",
              "      border: none;\n",
              "      border-radius: 50%;\n",
              "      cursor: pointer;\n",
              "      display: none;\n",
              "      fill: #1967D2;\n",
              "      height: 32px;\n",
              "      padding: 0 0 0 0;\n",
              "      width: 32px;\n",
              "    }\n",
              "\n",
              "    .colab-df-convert:hover {\n",
              "      background-color: #E2EBFA;\n",
              "      box-shadow: 0px 1px 2px rgba(60, 64, 67, 0.3), 0px 1px 3px 1px rgba(60, 64, 67, 0.15);\n",
              "      fill: #174EA6;\n",
              "    }\n",
              "\n",
              "    .colab-df-buttons div {\n",
              "      margin-bottom: 4px;\n",
              "    }\n",
              "\n",
              "    [theme=dark] .colab-df-convert {\n",
              "      background-color: #3B4455;\n",
              "      fill: #D2E3FC;\n",
              "    }\n",
              "\n",
              "    [theme=dark] .colab-df-convert:hover {\n",
              "      background-color: #434B5C;\n",
              "      box-shadow: 0px 1px 3px 1px rgba(0, 0, 0, 0.15);\n",
              "      filter: drop-shadow(0px 1px 2px rgba(0, 0, 0, 0.3));\n",
              "      fill: #FFFFFF;\n",
              "    }\n",
              "  </style>\n",
              "\n",
              "    <script>\n",
              "      const buttonEl =\n",
              "        document.querySelector('#df-07f9a6f4-809a-4437-81f0-078b594c4ae8 button.colab-df-convert');\n",
              "      buttonEl.style.display =\n",
              "        google.colab.kernel.accessAllowed ? 'block' : 'none';\n",
              "\n",
              "      async function convertToInteractive(key) {\n",
              "        const element = document.querySelector('#df-07f9a6f4-809a-4437-81f0-078b594c4ae8');\n",
              "        const dataTable =\n",
              "          await google.colab.kernel.invokeFunction('convertToInteractive',\n",
              "                                                    [key], {});\n",
              "        if (!dataTable) return;\n",
              "\n",
              "        const docLinkHtml = 'Like what you see? Visit the ' +\n",
              "          '<a target=\"_blank\" href=https://colab.research.google.com/notebooks/data_table.ipynb>data table notebook</a>'\n",
              "          + ' to learn more about interactive tables.';\n",
              "        element.innerHTML = '';\n",
              "        dataTable['output_type'] = 'display_data';\n",
              "        await google.colab.output.renderOutput(dataTable, element);\n",
              "        const docLink = document.createElement('div');\n",
              "        docLink.innerHTML = docLinkHtml;\n",
              "        element.appendChild(docLink);\n",
              "      }\n",
              "    </script>\n",
              "  </div>\n",
              "\n",
              "\n",
              "    <div id=\"df-09c2dbbd-03f9-4047-93d5-2f8ebe9c5075\">\n",
              "      <button class=\"colab-df-quickchart\" onclick=\"quickchart('df-09c2dbbd-03f9-4047-93d5-2f8ebe9c5075')\"\n",
              "                title=\"Suggest charts\"\n",
              "                style=\"display:none;\">\n",
              "\n",
              "<svg xmlns=\"http://www.w3.org/2000/svg\" height=\"24px\"viewBox=\"0 0 24 24\"\n",
              "     width=\"24px\">\n",
              "    <g>\n",
              "        <path d=\"M19 3H5c-1.1 0-2 .9-2 2v14c0 1.1.9 2 2 2h14c1.1 0 2-.9 2-2V5c0-1.1-.9-2-2-2zM9 17H7v-7h2v7zm4 0h-2V7h2v10zm4 0h-2v-4h2v4z\"/>\n",
              "    </g>\n",
              "</svg>\n",
              "      </button>\n",
              "\n",
              "<style>\n",
              "  .colab-df-quickchart {\n",
              "      --bg-color: #E8F0FE;\n",
              "      --fill-color: #1967D2;\n",
              "      --hover-bg-color: #E2EBFA;\n",
              "      --hover-fill-color: #174EA6;\n",
              "      --disabled-fill-color: #AAA;\n",
              "      --disabled-bg-color: #DDD;\n",
              "  }\n",
              "\n",
              "  [theme=dark] .colab-df-quickchart {\n",
              "      --bg-color: #3B4455;\n",
              "      --fill-color: #D2E3FC;\n",
              "      --hover-bg-color: #434B5C;\n",
              "      --hover-fill-color: #FFFFFF;\n",
              "      --disabled-bg-color: #3B4455;\n",
              "      --disabled-fill-color: #666;\n",
              "  }\n",
              "\n",
              "  .colab-df-quickchart {\n",
              "    background-color: var(--bg-color);\n",
              "    border: none;\n",
              "    border-radius: 50%;\n",
              "    cursor: pointer;\n",
              "    display: none;\n",
              "    fill: var(--fill-color);\n",
              "    height: 32px;\n",
              "    padding: 0;\n",
              "    width: 32px;\n",
              "  }\n",
              "\n",
              "  .colab-df-quickchart:hover {\n",
              "    background-color: var(--hover-bg-color);\n",
              "    box-shadow: 0 1px 2px rgba(60, 64, 67, 0.3), 0 1px 3px 1px rgba(60, 64, 67, 0.15);\n",
              "    fill: var(--button-hover-fill-color);\n",
              "  }\n",
              "\n",
              "  .colab-df-quickchart-complete:disabled,\n",
              "  .colab-df-quickchart-complete:disabled:hover {\n",
              "    background-color: var(--disabled-bg-color);\n",
              "    fill: var(--disabled-fill-color);\n",
              "    box-shadow: none;\n",
              "  }\n",
              "\n",
              "  .colab-df-spinner {\n",
              "    border: 2px solid var(--fill-color);\n",
              "    border-color: transparent;\n",
              "    border-bottom-color: var(--fill-color);\n",
              "    animation:\n",
              "      spin 1s steps(1) infinite;\n",
              "  }\n",
              "\n",
              "  @keyframes spin {\n",
              "    0% {\n",
              "      border-color: transparent;\n",
              "      border-bottom-color: var(--fill-color);\n",
              "      border-left-color: var(--fill-color);\n",
              "    }\n",
              "    20% {\n",
              "      border-color: transparent;\n",
              "      border-left-color: var(--fill-color);\n",
              "      border-top-color: var(--fill-color);\n",
              "    }\n",
              "    30% {\n",
              "      border-color: transparent;\n",
              "      border-left-color: var(--fill-color);\n",
              "      border-top-color: var(--fill-color);\n",
              "      border-right-color: var(--fill-color);\n",
              "    }\n",
              "    40% {\n",
              "      border-color: transparent;\n",
              "      border-right-color: var(--fill-color);\n",
              "      border-top-color: var(--fill-color);\n",
              "    }\n",
              "    60% {\n",
              "      border-color: transparent;\n",
              "      border-right-color: var(--fill-color);\n",
              "    }\n",
              "    80% {\n",
              "      border-color: transparent;\n",
              "      border-right-color: var(--fill-color);\n",
              "      border-bottom-color: var(--fill-color);\n",
              "    }\n",
              "    90% {\n",
              "      border-color: transparent;\n",
              "      border-bottom-color: var(--fill-color);\n",
              "    }\n",
              "  }\n",
              "</style>\n",
              "\n",
              "      <script>\n",
              "        async function quickchart(key) {\n",
              "          const quickchartButtonEl =\n",
              "            document.querySelector('#' + key + ' button');\n",
              "          quickchartButtonEl.disabled = true;  // To prevent multiple clicks.\n",
              "          quickchartButtonEl.classList.add('colab-df-spinner');\n",
              "          try {\n",
              "            const charts = await google.colab.kernel.invokeFunction(\n",
              "                'suggestCharts', [key], {});\n",
              "          } catch (error) {\n",
              "            console.error('Error during call to suggestCharts:', error);\n",
              "          }\n",
              "          quickchartButtonEl.classList.remove('colab-df-spinner');\n",
              "          quickchartButtonEl.classList.add('colab-df-quickchart-complete');\n",
              "        }\n",
              "        (() => {\n",
              "          let quickchartButtonEl =\n",
              "            document.querySelector('#df-09c2dbbd-03f9-4047-93d5-2f8ebe9c5075 button');\n",
              "          quickchartButtonEl.style.display =\n",
              "            google.colab.kernel.accessAllowed ? 'block' : 'none';\n",
              "        })();\n",
              "      </script>\n",
              "    </div>\n",
              "\n",
              "    </div>\n",
              "  </div>\n"
            ],
            "application/vnd.google.colaboratory.intrinsic+json": {
              "type": "dataframe",
              "summary": "{\n  \"name\": \"df[numericas]\",\n  \"rows\": 7,\n  \"fields\": [\n    {\n      \"column\": \"count\",\n      \"properties\": {\n        \"dtype\": \"number\",\n        \"std\": 1787.5666887326656,\n        \"min\": 2956.0,\n        \"max\": 7267.0,\n        \"num_unique_values\": 5,\n        \"samples\": [\n          7267.0,\n          2956.0,\n          3749.0\n        ],\n        \"semantic_type\": \"\",\n        \"description\": \"\"\n      }\n    },\n    {\n      \"column\": \"mean\",\n      \"properties\": {\n        \"dtype\": \"number\",\n        \"std\": 25.44441523213496,\n        \"min\": 0.0,\n        \"max\": 64.72009770194028,\n        \"num_unique_values\": 4,\n        \"samples\": [\n          0.16265308930782993,\n          64.72009770194028,\n          0.0\n        ],\n        \"semantic_type\": \"\",\n        \"description\": \"\"\n      }\n    },\n    {\n      \"column\": \"std\",\n      \"properties\": {\n        \"dtype\": \"number\",\n        \"std\": 13.406771861065389,\n        \"min\": 0.0,\n        \"max\": 30.12957188566699,\n        \"num_unique_values\": 4,\n        \"samples\": [\n          0.3690742557820031,\n          30.12957188566699,\n          0.0\n        ],\n        \"semantic_type\": \"\",\n        \"description\": \"\"\n      }\n    },\n    {\n      \"column\": \"min\",\n      \"properties\": {\n        \"dtype\": \"number\",\n        \"std\": 6.897851632418397,\n        \"min\": 0.0,\n        \"max\": 18.25,\n        \"num_unique_values\": 2,\n        \"samples\": [\n          18.25,\n          0.0\n        ],\n        \"semantic_type\": \"\",\n        \"description\": \"\"\n      }\n    },\n    {\n      \"column\": \"25%\",\n      \"properties\": {\n        \"dtype\": \"number\",\n        \"std\": 13.253870728421726,\n        \"min\": 0.0,\n        \"max\": 35.425,\n        \"num_unique_values\": 3,\n        \"samples\": [\n          0.0,\n          9.0\n        ],\n        \"semantic_type\": \"\",\n        \"description\": \"\"\n      }\n    },\n    {\n      \"column\": \"50%\",\n      \"properties\": {\n        \"dtype\": \"number\",\n        \"std\": 27.001384444223632,\n        \"min\": 0.0,\n        \"max\": 70.3,\n        \"num_unique_values\": 3,\n        \"samples\": [\n          0.0,\n          29.0\n        ],\n        \"semantic_type\": \"\",\n        \"description\": \"\"\n      }\n    },\n    {\n      \"column\": \"75%\",\n      \"properties\": {\n        \"dtype\": \"number\",\n        \"std\": 36.75169051829291,\n        \"min\": 0.0,\n        \"max\": 89.875,\n        \"num_unique_values\": 3,\n        \"samples\": [\n          0.0,\n          55.0\n        ],\n        \"semantic_type\": \"\",\n        \"description\": \"\"\n      }\n    },\n    {\n      \"column\": \"max\",\n      \"properties\": {\n        \"dtype\": \"number\",\n        \"std\": 48.36317838820691,\n        \"min\": 0.0,\n        \"max\": 118.75,\n        \"num_unique_values\": 4,\n        \"samples\": [\n          1.0,\n          118.75\n        ],\n        \"semantic_type\": \"\",\n        \"description\": \"\"\n      }\n    }\n  ]\n}"
            }
          },
          "metadata": {},
          "execution_count": 22
        }
      ]
    },
    {
      "cell_type": "code",
      "source": [
        "# Filtrar columnas relevantes si existen\n",
        "relevantes = [col for col in numericas if 'tenure' in col or 'Charges' in col or 'Cuentas_Diarias' in col]\n",
        "df[relevantes].describe().T"
      ],
      "metadata": {
        "colab": {
          "base_uri": "https://localhost:8080/",
          "height": 112
        },
        "id": "UTZJ4cDgG2mF",
        "outputId": "89a0b0de-1dea-426d-8ff6-c721211cca0f"
      },
      "execution_count": 23,
      "outputs": [
        {
          "output_type": "execute_result",
          "data": {
            "text/plain": [
              "                          count       mean        std    min     25%   50%  \\\n",
              "customer_tenure          7267.0  32.346498  24.571773   0.00   9.000  29.0   \n",
              "account_Charges.Monthly  7267.0  64.720098  30.129572  18.25  35.425  70.3   \n",
              "\n",
              "                            75%     max  \n",
              "customer_tenure          55.000   72.00  \n",
              "account_Charges.Monthly  89.875  118.75  "
            ],
            "text/html": [
              "\n",
              "  <div id=\"df-611bd993-8bd2-40c3-83de-3e0191a4abe2\" class=\"colab-df-container\">\n",
              "    <div>\n",
              "<style scoped>\n",
              "    .dataframe tbody tr th:only-of-type {\n",
              "        vertical-align: middle;\n",
              "    }\n",
              "\n",
              "    .dataframe tbody tr th {\n",
              "        vertical-align: top;\n",
              "    }\n",
              "\n",
              "    .dataframe thead th {\n",
              "        text-align: right;\n",
              "    }\n",
              "</style>\n",
              "<table border=\"1\" class=\"dataframe\">\n",
              "  <thead>\n",
              "    <tr style=\"text-align: right;\">\n",
              "      <th></th>\n",
              "      <th>count</th>\n",
              "      <th>mean</th>\n",
              "      <th>std</th>\n",
              "      <th>min</th>\n",
              "      <th>25%</th>\n",
              "      <th>50%</th>\n",
              "      <th>75%</th>\n",
              "      <th>max</th>\n",
              "    </tr>\n",
              "  </thead>\n",
              "  <tbody>\n",
              "    <tr>\n",
              "      <th>customer_tenure</th>\n",
              "      <td>7267.0</td>\n",
              "      <td>32.346498</td>\n",
              "      <td>24.571773</td>\n",
              "      <td>0.00</td>\n",
              "      <td>9.000</td>\n",
              "      <td>29.0</td>\n",
              "      <td>55.000</td>\n",
              "      <td>72.00</td>\n",
              "    </tr>\n",
              "    <tr>\n",
              "      <th>account_Charges.Monthly</th>\n",
              "      <td>7267.0</td>\n",
              "      <td>64.720098</td>\n",
              "      <td>30.129572</td>\n",
              "      <td>18.25</td>\n",
              "      <td>35.425</td>\n",
              "      <td>70.3</td>\n",
              "      <td>89.875</td>\n",
              "      <td>118.75</td>\n",
              "    </tr>\n",
              "  </tbody>\n",
              "</table>\n",
              "</div>\n",
              "    <div class=\"colab-df-buttons\">\n",
              "\n",
              "  <div class=\"colab-df-container\">\n",
              "    <button class=\"colab-df-convert\" onclick=\"convertToInteractive('df-611bd993-8bd2-40c3-83de-3e0191a4abe2')\"\n",
              "            title=\"Convert this dataframe to an interactive table.\"\n",
              "            style=\"display:none;\">\n",
              "\n",
              "  <svg xmlns=\"http://www.w3.org/2000/svg\" height=\"24px\" viewBox=\"0 -960 960 960\">\n",
              "    <path d=\"M120-120v-720h720v720H120Zm60-500h600v-160H180v160Zm220 220h160v-160H400v160Zm0 220h160v-160H400v160ZM180-400h160v-160H180v160Zm440 0h160v-160H620v160ZM180-180h160v-160H180v160Zm440 0h160v-160H620v160Z\"/>\n",
              "  </svg>\n",
              "    </button>\n",
              "\n",
              "  <style>\n",
              "    .colab-df-container {\n",
              "      display:flex;\n",
              "      gap: 12px;\n",
              "    }\n",
              "\n",
              "    .colab-df-convert {\n",
              "      background-color: #E8F0FE;\n",
              "      border: none;\n",
              "      border-radius: 50%;\n",
              "      cursor: pointer;\n",
              "      display: none;\n",
              "      fill: #1967D2;\n",
              "      height: 32px;\n",
              "      padding: 0 0 0 0;\n",
              "      width: 32px;\n",
              "    }\n",
              "\n",
              "    .colab-df-convert:hover {\n",
              "      background-color: #E2EBFA;\n",
              "      box-shadow: 0px 1px 2px rgba(60, 64, 67, 0.3), 0px 1px 3px 1px rgba(60, 64, 67, 0.15);\n",
              "      fill: #174EA6;\n",
              "    }\n",
              "\n",
              "    .colab-df-buttons div {\n",
              "      margin-bottom: 4px;\n",
              "    }\n",
              "\n",
              "    [theme=dark] .colab-df-convert {\n",
              "      background-color: #3B4455;\n",
              "      fill: #D2E3FC;\n",
              "    }\n",
              "\n",
              "    [theme=dark] .colab-df-convert:hover {\n",
              "      background-color: #434B5C;\n",
              "      box-shadow: 0px 1px 3px 1px rgba(0, 0, 0, 0.15);\n",
              "      filter: drop-shadow(0px 1px 2px rgba(0, 0, 0, 0.3));\n",
              "      fill: #FFFFFF;\n",
              "    }\n",
              "  </style>\n",
              "\n",
              "    <script>\n",
              "      const buttonEl =\n",
              "        document.querySelector('#df-611bd993-8bd2-40c3-83de-3e0191a4abe2 button.colab-df-convert');\n",
              "      buttonEl.style.display =\n",
              "        google.colab.kernel.accessAllowed ? 'block' : 'none';\n",
              "\n",
              "      async function convertToInteractive(key) {\n",
              "        const element = document.querySelector('#df-611bd993-8bd2-40c3-83de-3e0191a4abe2');\n",
              "        const dataTable =\n",
              "          await google.colab.kernel.invokeFunction('convertToInteractive',\n",
              "                                                    [key], {});\n",
              "        if (!dataTable) return;\n",
              "\n",
              "        const docLinkHtml = 'Like what you see? Visit the ' +\n",
              "          '<a target=\"_blank\" href=https://colab.research.google.com/notebooks/data_table.ipynb>data table notebook</a>'\n",
              "          + ' to learn more about interactive tables.';\n",
              "        element.innerHTML = '';\n",
              "        dataTable['output_type'] = 'display_data';\n",
              "        await google.colab.output.renderOutput(dataTable, element);\n",
              "        const docLink = document.createElement('div');\n",
              "        docLink.innerHTML = docLinkHtml;\n",
              "        element.appendChild(docLink);\n",
              "      }\n",
              "    </script>\n",
              "  </div>\n",
              "\n",
              "\n",
              "    <div id=\"df-23992bcd-6240-4379-a9d5-bc402abe5cb6\">\n",
              "      <button class=\"colab-df-quickchart\" onclick=\"quickchart('df-23992bcd-6240-4379-a9d5-bc402abe5cb6')\"\n",
              "                title=\"Suggest charts\"\n",
              "                style=\"display:none;\">\n",
              "\n",
              "<svg xmlns=\"http://www.w3.org/2000/svg\" height=\"24px\"viewBox=\"0 0 24 24\"\n",
              "     width=\"24px\">\n",
              "    <g>\n",
              "        <path d=\"M19 3H5c-1.1 0-2 .9-2 2v14c0 1.1.9 2 2 2h14c1.1 0 2-.9 2-2V5c0-1.1-.9-2-2-2zM9 17H7v-7h2v7zm4 0h-2V7h2v10zm4 0h-2v-4h2v4z\"/>\n",
              "    </g>\n",
              "</svg>\n",
              "      </button>\n",
              "\n",
              "<style>\n",
              "  .colab-df-quickchart {\n",
              "      --bg-color: #E8F0FE;\n",
              "      --fill-color: #1967D2;\n",
              "      --hover-bg-color: #E2EBFA;\n",
              "      --hover-fill-color: #174EA6;\n",
              "      --disabled-fill-color: #AAA;\n",
              "      --disabled-bg-color: #DDD;\n",
              "  }\n",
              "\n",
              "  [theme=dark] .colab-df-quickchart {\n",
              "      --bg-color: #3B4455;\n",
              "      --fill-color: #D2E3FC;\n",
              "      --hover-bg-color: #434B5C;\n",
              "      --hover-fill-color: #FFFFFF;\n",
              "      --disabled-bg-color: #3B4455;\n",
              "      --disabled-fill-color: #666;\n",
              "  }\n",
              "\n",
              "  .colab-df-quickchart {\n",
              "    background-color: var(--bg-color);\n",
              "    border: none;\n",
              "    border-radius: 50%;\n",
              "    cursor: pointer;\n",
              "    display: none;\n",
              "    fill: var(--fill-color);\n",
              "    height: 32px;\n",
              "    padding: 0;\n",
              "    width: 32px;\n",
              "  }\n",
              "\n",
              "  .colab-df-quickchart:hover {\n",
              "    background-color: var(--hover-bg-color);\n",
              "    box-shadow: 0 1px 2px rgba(60, 64, 67, 0.3), 0 1px 3px 1px rgba(60, 64, 67, 0.15);\n",
              "    fill: var(--button-hover-fill-color);\n",
              "  }\n",
              "\n",
              "  .colab-df-quickchart-complete:disabled,\n",
              "  .colab-df-quickchart-complete:disabled:hover {\n",
              "    background-color: var(--disabled-bg-color);\n",
              "    fill: var(--disabled-fill-color);\n",
              "    box-shadow: none;\n",
              "  }\n",
              "\n",
              "  .colab-df-spinner {\n",
              "    border: 2px solid var(--fill-color);\n",
              "    border-color: transparent;\n",
              "    border-bottom-color: var(--fill-color);\n",
              "    animation:\n",
              "      spin 1s steps(1) infinite;\n",
              "  }\n",
              "\n",
              "  @keyframes spin {\n",
              "    0% {\n",
              "      border-color: transparent;\n",
              "      border-bottom-color: var(--fill-color);\n",
              "      border-left-color: var(--fill-color);\n",
              "    }\n",
              "    20% {\n",
              "      border-color: transparent;\n",
              "      border-left-color: var(--fill-color);\n",
              "      border-top-color: var(--fill-color);\n",
              "    }\n",
              "    30% {\n",
              "      border-color: transparent;\n",
              "      border-left-color: var(--fill-color);\n",
              "      border-top-color: var(--fill-color);\n",
              "      border-right-color: var(--fill-color);\n",
              "    }\n",
              "    40% {\n",
              "      border-color: transparent;\n",
              "      border-right-color: var(--fill-color);\n",
              "      border-top-color: var(--fill-color);\n",
              "    }\n",
              "    60% {\n",
              "      border-color: transparent;\n",
              "      border-right-color: var(--fill-color);\n",
              "    }\n",
              "    80% {\n",
              "      border-color: transparent;\n",
              "      border-right-color: var(--fill-color);\n",
              "      border-bottom-color: var(--fill-color);\n",
              "    }\n",
              "    90% {\n",
              "      border-color: transparent;\n",
              "      border-bottom-color: var(--fill-color);\n",
              "    }\n",
              "  }\n",
              "</style>\n",
              "\n",
              "      <script>\n",
              "        async function quickchart(key) {\n",
              "          const quickchartButtonEl =\n",
              "            document.querySelector('#' + key + ' button');\n",
              "          quickchartButtonEl.disabled = true;  // To prevent multiple clicks.\n",
              "          quickchartButtonEl.classList.add('colab-df-spinner');\n",
              "          try {\n",
              "            const charts = await google.colab.kernel.invokeFunction(\n",
              "                'suggestCharts', [key], {});\n",
              "          } catch (error) {\n",
              "            console.error('Error during call to suggestCharts:', error);\n",
              "          }\n",
              "          quickchartButtonEl.classList.remove('colab-df-spinner');\n",
              "          quickchartButtonEl.classList.add('colab-df-quickchart-complete');\n",
              "        }\n",
              "        (() => {\n",
              "          let quickchartButtonEl =\n",
              "            document.querySelector('#df-23992bcd-6240-4379-a9d5-bc402abe5cb6 button');\n",
              "          quickchartButtonEl.style.display =\n",
              "            google.colab.kernel.accessAllowed ? 'block' : 'none';\n",
              "        })();\n",
              "      </script>\n",
              "    </div>\n",
              "\n",
              "    </div>\n",
              "  </div>\n"
            ],
            "application/vnd.google.colaboratory.intrinsic+json": {
              "type": "dataframe",
              "summary": "{\n  \"name\": \"df[relevantes]\",\n  \"rows\": 2,\n  \"fields\": [\n    {\n      \"column\": \"count\",\n      \"properties\": {\n        \"dtype\": \"number\",\n        \"std\": 0.0,\n        \"min\": 7267.0,\n        \"max\": 7267.0,\n        \"num_unique_values\": 1,\n        \"samples\": [\n          7267.0\n        ],\n        \"semantic_type\": \"\",\n        \"description\": \"\"\n      }\n    },\n    {\n      \"column\": \"mean\",\n      \"properties\": {\n        \"dtype\": \"number\",\n        \"std\": 22.89159197465624,\n        \"min\": 32.34649786707032,\n        \"max\": 64.72009770194028,\n        \"num_unique_values\": 2,\n        \"samples\": [\n          64.72009770194028\n        ],\n        \"semantic_type\": \"\",\n        \"description\": \"\"\n      }\n    },\n    {\n      \"column\": \"std\",\n      \"properties\": {\n        \"dtype\": \"number\",\n        \"std\": 3.9299573591795687,\n        \"min\": 24.571772888767292,\n        \"max\": 30.12957188566699,\n        \"num_unique_values\": 2,\n        \"samples\": [\n          30.12957188566699\n        ],\n        \"semantic_type\": \"\",\n        \"description\": \"\"\n      }\n    },\n    {\n      \"column\": \"min\",\n      \"properties\": {\n        \"dtype\": \"number\",\n        \"std\": 12.904698756654492,\n        \"min\": 0.0,\n        \"max\": 18.25,\n        \"num_unique_values\": 2,\n        \"samples\": [\n          18.25\n        ],\n        \"semantic_type\": \"\",\n        \"description\": \"\"\n      }\n    },\n    {\n      \"column\": \"25%\",\n      \"properties\": {\n        \"dtype\": \"number\",\n        \"std\": 18.685296692854518,\n        \"min\": 9.0,\n        \"max\": 35.425,\n        \"num_unique_values\": 2,\n        \"samples\": [\n          35.425\n        ],\n        \"semantic_type\": \"\",\n        \"description\": \"\"\n      }\n    },\n    {\n      \"column\": \"50%\",\n      \"properties\": {\n        \"dtype\": \"number\",\n        \"std\": 29.203510063004412,\n        \"min\": 29.0,\n        \"max\": 70.3,\n        \"num_unique_values\": 2,\n        \"samples\": [\n          70.3\n        ],\n        \"semantic_type\": \"\",\n        \"description\": \"\"\n      }\n    },\n    {\n      \"column\": \"75%\",\n      \"properties\": {\n        \"dtype\": \"number\",\n        \"std\": 24.660348993880845,\n        \"min\": 55.0,\n        \"max\": 89.875,\n        \"num_unique_values\": 2,\n        \"samples\": [\n          89.875\n        ],\n        \"semantic_type\": \"\",\n        \"description\": \"\"\n      }\n    },\n    {\n      \"column\": \"max\",\n      \"properties\": {\n        \"dtype\": \"number\",\n        \"std\": 33.057242020471094,\n        \"min\": 72.0,\n        \"max\": 118.75,\n        \"num_unique_values\": 2,\n        \"samples\": [\n          118.75\n        ],\n        \"semantic_type\": \"\",\n        \"description\": \"\"\n      }\n    }\n  ]\n}"
            }
          },
          "metadata": {},
          "execution_count": 23
        }
      ]
    },
    {
      "cell_type": "code",
      "source": [
        "# 📌 Detectar columnas numéricas automáticamente\n",
        "numericas = df.select_dtypes(include=['int64', 'float64']).columns.tolist()\n",
        "\n",
        "# 📌 Análisis descriptivo general\n",
        "print(\"📊 Estadísticas generales:\")\n",
        "print(df[numericas].describe().T)\n",
        "\n",
        "# 📌 Mediana de cada variable\n",
        "print(\"\\n📍 Medianas:\")\n",
        "print(df[numericas].median())\n",
        "\n",
        "# 📌 Desviación estándar\n",
        "print(\"\\n📍 Desviaciones estándar:\")\n",
        "print(df[numericas].std())\n",
        "\n",
        "# 📌 Percentiles personalizados\n",
        "print(\"\\n📍 Percentiles (10%, 25%, 50%, 75%, 90%):\")\n",
        "print(df[numericas].quantile([0.1, 0.25, 0.5, 0.75, 0.9]).T)"
      ],
      "metadata": {
        "colab": {
          "base_uri": "https://localhost:8080/"
        },
        "id": "hKbmdGQTHOaU",
        "outputId": "e40c1c4e-0ffd-4549-f57b-11ea40306658"
      },
      "execution_count": 24,
      "outputs": [
        {
          "output_type": "stream",
          "name": "stdout",
          "text": [
            "📊 Estadísticas generales:\n",
            "                           count       mean        std    min     25%   50%  \\\n",
            "Churn                     5174.0   0.000000   0.000000   0.00   0.000   0.0   \n",
            "customer_SeniorCitizen    7267.0   0.162653   0.369074   0.00   0.000   0.0   \n",
            "customer_Partner          3749.0   0.000000   0.000000   0.00   0.000   0.0   \n",
            "customer_Dependents       5086.0   0.000000   0.000000   0.00   0.000   0.0   \n",
            "customer_tenure           7267.0  32.346498  24.571773   0.00   9.000  29.0   \n",
            "account_PaperlessBilling  2956.0   0.000000   0.000000   0.00   0.000   0.0   \n",
            "account_Charges.Monthly   7267.0  64.720098  30.129572  18.25  35.425  70.3   \n",
            "\n",
            "                             75%     max  \n",
            "Churn                      0.000    0.00  \n",
            "customer_SeniorCitizen     0.000    1.00  \n",
            "customer_Partner           0.000    0.00  \n",
            "customer_Dependents        0.000    0.00  \n",
            "customer_tenure           55.000   72.00  \n",
            "account_PaperlessBilling   0.000    0.00  \n",
            "account_Charges.Monthly   89.875  118.75  \n",
            "\n",
            "📍 Medianas:\n",
            "Churn                        0.0\n",
            "customer_SeniorCitizen       0.0\n",
            "customer_Partner             0.0\n",
            "customer_Dependents          0.0\n",
            "customer_tenure             29.0\n",
            "account_PaperlessBilling     0.0\n",
            "account_Charges.Monthly     70.3\n",
            "dtype: float64\n",
            "\n",
            "📍 Desviaciones estándar:\n",
            "Churn                        0.000000\n",
            "customer_SeniorCitizen       0.369074\n",
            "customer_Partner             0.000000\n",
            "customer_Dependents          0.000000\n",
            "customer_tenure             24.571773\n",
            "account_PaperlessBilling     0.000000\n",
            "account_Charges.Monthly     30.129572\n",
            "dtype: float64\n",
            "\n",
            "📍 Percentiles (10%, 25%, 50%, 75%, 90%):\n",
            "                           0.10    0.25  0.50    0.75    0.90\n",
            "Churn                      0.00   0.000   0.0   0.000    0.00\n",
            "customer_SeniorCitizen     0.00   0.000   0.0   0.000    1.00\n",
            "customer_Partner           0.00   0.000   0.0   0.000    0.00\n",
            "customer_Dependents        0.00   0.000   0.0   0.000    0.00\n",
            "customer_tenure            2.00   9.000  29.0  55.000   69.00\n",
            "account_PaperlessBilling   0.00   0.000   0.0   0.000    0.00\n",
            "account_Charges.Monthly   20.05  35.425  70.3  89.875  102.87\n"
          ]
        }
      ]
    },
    {
      "cell_type": "code",
      "source": [
        "import matplotlib.pyplot as plt\n",
        "import seaborn as sns\n",
        "\n",
        "# Configuración de estilo\n",
        "sns.set(style=\"whitegrid\")\n",
        "plt.figure(figsize=(14, 6))\n",
        "\n",
        "# 🔹 Gráfico de barras\n",
        "plt.subplot(1, 2, 1)\n",
        "sns.countplot(data=df, x='Churn', palette='Set2')\n",
        "plt.title('Distribución de clientes según Churn')\n",
        "plt.xlabel('Estado del cliente')\n",
        "plt.ylabel('Cantidad')\n",
        "\n",
        "# 🔸 Gráfico de pastel\n",
        "plt.subplot(1, 2, 2)\n",
        "churn_counts = df['Churn'].value_counts()\n",
        "plt.pie(churn_counts, labels=churn_counts.index, autopct='%1.1f%%', colors=sns.color_palette('Set2'))\n",
        "plt.title('Proporción de clientes (Churn vs No Churn)')\n",
        "\n",
        "plt.tight_layout()\n",
        "plt.show()"
      ],
      "metadata": {
        "colab": {
          "base_uri": "https://localhost:8080/",
          "height": 620
        },
        "id": "KfYXLs1SHgbk",
        "outputId": "37bb23e5-1620-4ae1-e304-026e09f0ee54"
      },
      "execution_count": 25,
      "outputs": [
        {
          "output_type": "stream",
          "name": "stderr",
          "text": [
            "/tmp/ipython-input-345839718.py:10: FutureWarning: \n",
            "\n",
            "Passing `palette` without assigning `hue` is deprecated and will be removed in v0.14.0. Assign the `x` variable to `hue` and set `legend=False` for the same effect.\n",
            "\n",
            "  sns.countplot(data=df, x='Churn', palette='Set2')\n"
          ]
        },
        {
          "output_type": "display_data",
          "data": {
            "text/plain": [
              "<Figure size 1400x600 with 2 Axes>"
            ],
            "image/png": "[encoded data removed]"
          },
          "metadata": {}
        }
      ]
    },
    {
      "cell_type": "code",
      "source": [
        "# Ver columnas disponibles\n",
        "print(df.columns)\n",
        "\n",
        "# Renombrar columnas clave para facilitar el análisis\n",
        "df.rename(columns={\n",
        "    'TotalCharges': 'total_gastado',\n",
        "    'tenure': 'tiempo_contrato',\n",
        "    'Churn': 'churn'\n",
        "}, inplace=True)"
      ],
      "metadata": {
        "colab": {
          "base_uri": "https://localhost:8080/"
        },
        "id": "juO8BDAnIDH0",
        "outputId": "66e20e1f-fd39-4c8a-8f5f-4a389b18fd0d"
      },
      "execution_count": 27,
      "outputs": [
        {
          "output_type": "stream",
          "name": "stdout",
          "text": [
            "Index(['customerID', 'Churn', 'customer_gender', 'customer_SeniorCitizen',\n",
            "       'customer_Partner', 'customer_Dependents', 'customer_tenure',\n",
            "       'phone_PhoneService', 'phone_MultipleLines', 'Tipo_Internet',\n",
            "       'internet_OnlineSecurity', 'internet_OnlineBackup',\n",
            "       'internet_DeviceProtection', 'internet_TechSupport',\n",
            "       'internet_StreamingTV', 'internet_StreamingMovies', 'account_Contract',\n",
            "       'account_PaperlessBilling', 'Metodo_Pago', 'account_Charges.Monthly',\n",
            "       'account_Charges.Total'],\n",
            "      dtype='object')\n"
          ]
        }
      ]
    },
    {
      "cell_type": "code",
      "source": [
        "df.columns.tolist()"
      ],
      "metadata": {
        "colab": {
          "base_uri": "https://localhost:8080/"
        },
        "id": "uBDyY0jsS9Xn",
        "outputId": "ad3e3e79-1160-48ec-f37b-68bc873ec814"
      },
      "execution_count": 29,
      "outputs": [
        {
          "output_type": "execute_result",
          "data": {
            "text/plain": [
              "['customerID',\n",
              " 'churn',\n",
              " 'customer_gender',\n",
              " 'customer_SeniorCitizen',\n",
              " 'customer_Partner',\n",
              " 'customer_Dependents',\n",
              " 'customer_tenure',\n",
              " 'phone_PhoneService',\n",
              " 'phone_MultipleLines',\n",
              " 'Tipo_Internet',\n",
              " 'internet_OnlineSecurity',\n",
              " 'internet_OnlineBackup',\n",
              " 'internet_DeviceProtection',\n",
              " 'internet_TechSupport',\n",
              " 'internet_StreamingTV',\n",
              " 'internet_StreamingMovies',\n",
              " 'account_Contract',\n",
              " 'account_PaperlessBilling',\n",
              " 'Metodo_Pago',\n",
              " 'account_Charges.Monthly',\n",
              " 'account_Charges.Total']"
            ]
          },
          "metadata": {},
          "execution_count": 29
        }
      ]
    },
    {
      "cell_type": "code",
      "source": [
        "['customerID', 'gender', 'SeniorCitizen', 'Partner', ..., 'TotalCharges', 'tenure', 'Churn']"
      ],
      "metadata": {
        "colab": {
          "base_uri": "https://localhost:8080/"
        },
        "id": "NGXR-z63S9a_",
        "outputId": "37b81407-1898-4ef8-bd51-fe89b24e5bfa"
      },
      "execution_count": 30,
      "outputs": [
        {
          "output_type": "execute_result",
          "data": {
            "text/plain": [
              "['customerID',\n",
              " 'gender',\n",
              " 'SeniorCitizen',\n",
              " 'Partner',\n",
              " Ellipsis,\n",
              " 'TotalCharges',\n",
              " 'tenure',\n",
              " 'Churn']"
            ]
          },
          "metadata": {},
          "execution_count": 30
        }
      ]
    },
    {
      "cell_type": "code",
      "source": [
        "df.rename(columns={\n",
        "    'TotalCharges': 'total_gastado',\n",
        "    'tenure': 'tiempo_contrato',\n",
        "    'Churn': 'churn'\n",
        "}, inplace=True)"
      ],
      "metadata": {
        "id": "9wZvkeH3S9dr"
      },
      "execution_count": 31,
      "outputs": []
    },
    {
      "cell_type": "code",
      "source": [
        "df.columns = df.columns.str.strip()  # Elimina espacios en los nombres"
      ],
      "metadata": {
        "id": "y8tz15DLS9gP"
      },
      "execution_count": 33,
      "outputs": []
    },
    {
      "cell_type": "code",
      "source": [
        "for col in df.columns:\n",
        "    print(f\"'{col}'\")"
      ],
      "metadata": {
        "colab": {
          "base_uri": "https://localhost:8080/"
        },
        "id": "r7pwb3lzUQ4S",
        "outputId": "639aa414-ee5b-42ad-8e53-e445e4e38de2"
      },
      "execution_count": 36,
      "outputs": [
        {
          "output_type": "stream",
          "name": "stdout",
          "text": [
            "'customerID'\n",
            "'churn'\n",
            "'customer_gender'\n",
            "'customer_SeniorCitizen'\n",
            "'customer_Partner'\n",
            "'customer_Dependents'\n",
            "'customer_tenure'\n",
            "'phone_PhoneService'\n",
            "'phone_MultipleLines'\n",
            "'Tipo_Internet'\n",
            "'internet_OnlineSecurity'\n",
            "'internet_OnlineBackup'\n",
            "'internet_DeviceProtection'\n",
            "'internet_TechSupport'\n",
            "'internet_StreamingTV'\n",
            "'internet_StreamingMovies'\n",
            "'account_Contract'\n",
            "'account_PaperlessBilling'\n",
            "'Metodo_Pago'\n",
            "'account_Charges.Monthly'\n",
            "'account_Charges.Total'\n"
          ]
        }
      ]
    },
    {
      "cell_type": "code",
      "source": [
        "df.columns = df.columns.str.strip()  # Elimina espacios al inicio y final\n",
        "df.columns = df.columns.str.replace(\" \", \"_\")  # Reemplaza espacios por guiones bajos"
      ],
      "metadata": {
        "id": "WObrYmSOURAt"
      },
      "execution_count": 37,
      "outputs": []
    },
    {
      "cell_type": "code",
      "source": [
        "print(df.columns.tolist())"
      ],
      "metadata": {
        "colab": {
          "base_uri": "https://localhost:8080/"
        },
        "id": "d-pIgH2yS9iN",
        "outputId": "4ae59dbc-ba85-411e-b93d-91c574bb763f"
      },
      "execution_count": 38,
      "outputs": [
        {
          "output_type": "stream",
          "name": "stdout",
          "text": [
            "['customerID', 'churn', 'customer_gender', 'customer_SeniorCitizen', 'customer_Partner', 'customer_Dependents', 'customer_tenure', 'phone_PhoneService', 'phone_MultipleLines', 'Tipo_Internet', 'internet_OnlineSecurity', 'internet_OnlineBackup', 'internet_DeviceProtection', 'internet_TechSupport', 'internet_StreamingTV', 'internet_StreamingMovies', 'account_Contract', 'account_PaperlessBilling', 'Metodo_Pago', 'account_Charges.Monthly', 'account_Charges.Total']\n"
          ]
        }
      ]
    },
    {
      "cell_type": "code",
      "source": [
        "df.rename(columns={\n",
        "    'Total_Charges': 'total_gastado',  # Ajusta según el nombre real\n",
        "    'tenure': 'tiempo_contrato',\n",
        "    'Churn': 'churn'\n",
        "}, inplace=True)"
      ],
      "metadata": {
        "id": "HwdPUJNpU66J"
      },
      "execution_count": 39,
      "outputs": []
    },
    {
      "cell_type": "code",
      "source": [
        "for col in df.columns:\n",
        "    print(f\"'{col}'\")"
      ],
      "metadata": {
        "colab": {
          "base_uri": "https://localhost:8080/"
        },
        "id": "dRSizsPBU68j",
        "outputId": "8cbbe66f-eb22-40e0-c2b1-2e238d40750b"
      },
      "execution_count": 44,
      "outputs": [
        {
          "output_type": "stream",
          "name": "stdout",
          "text": [
            "'customerID'\n",
            "'churn'\n",
            "'customer_gender'\n",
            "'customer_SeniorCitizen'\n",
            "'customer_Partner'\n",
            "'customer_Dependents'\n",
            "'customer_tenure'\n",
            "'phone_PhoneService'\n",
            "'phone_MultipleLines'\n",
            "'Tipo_Internet'\n",
            "'internet_OnlineSecurity'\n",
            "'internet_OnlineBackup'\n",
            "'internet_DeviceProtection'\n",
            "'internet_TechSupport'\n",
            "'internet_StreamingTV'\n",
            "'internet_StreamingMovies'\n",
            "'account_Contract'\n",
            "'account_PaperlessBilling'\n",
            "'Metodo_Pago'\n",
            "'account_Charges.Monthly'\n",
            "'account_Charges.Total'\n"
          ]
        }
      ]
    },
    {
      "cell_type": "code",
      "source": [
        "df.columns = df.columns.str.strip()       # Elimina espacios al inicio y final\n",
        "df.columns = df.columns.str.replace(\" \", \"_\")  # Reemplaza espacios por guiones bajos"
      ],
      "metadata": {
        "id": "cS7bBCnDVG7s"
      },
      "execution_count": 45,
      "outputs": []
    },
    {
      "cell_type": "code",
      "source": [
        "print(df.columns.tolist())"
      ],
      "metadata": {
        "colab": {
          "base_uri": "https://localhost:8080/"
        },
        "id": "fHm1HouQVG-a",
        "outputId": "044e302a-aca7-4359-ba3f-053336ecdcda"
      },
      "execution_count": 46,
      "outputs": [
        {
          "output_type": "stream",
          "name": "stdout",
          "text": [
            "['customerID', 'churn', 'customer_gender', 'customer_SeniorCitizen', 'customer_Partner', 'customer_Dependents', 'customer_tenure', 'phone_PhoneService', 'phone_MultipleLines', 'Tipo_Internet', 'internet_OnlineSecurity', 'internet_OnlineBackup', 'internet_DeviceProtection', 'internet_TechSupport', 'internet_StreamingTV', 'internet_StreamingMovies', 'account_Contract', 'account_PaperlessBilling', 'Metodo_Pago', 'account_Charges.Monthly', 'account_Charges.Total']\n"
          ]
        }
      ]
    },
    {
      "cell_type": "code",
      "source": [
        "df.rename(columns={\n",
        "    'Total_Charges': 'total_gastado',     # Ajusta según el nombre real\n",
        "    'tenure': 'tiempo_contrato',\n",
        "    'Churn': 'churn'\n",
        "}, inplace=True)"
      ],
      "metadata": {
        "id": "T8t0L9R7VHAs"
      },
      "execution_count": 47,
      "outputs": []
    },
    {
      "cell_type": "code",
      "source": [
        "print(df.columns.tolist())"
      ],
      "metadata": {
        "colab": {
          "base_uri": "https://localhost:8080/"
        },
        "id": "SHZ67CW7VHDd",
        "outputId": "e81e9a43-e1f8-4cd8-86b1-20b13912030b"
      },
      "execution_count": 48,
      "outputs": [
        {
          "output_type": "stream",
          "name": "stdout",
          "text": [
            "['customerID', 'churn', 'customer_gender', 'customer_SeniorCitizen', 'customer_Partner', 'customer_Dependents', 'customer_tenure', 'phone_PhoneService', 'phone_MultipleLines', 'Tipo_Internet', 'internet_OnlineSecurity', 'internet_OnlineBackup', 'internet_DeviceProtection', 'internet_TechSupport', 'internet_StreamingTV', 'internet_StreamingMovies', 'account_Contract', 'account_PaperlessBilling', 'Metodo_Pago', 'account_Charges.Monthly', 'account_Charges.Total']\n"
          ]
        }
      ]
    },
    {
      "cell_type": "code",
      "source": [
        "# Detectar nombres reales y renombrar\n",
        "df.rename(columns={\n",
        "    'totalcharges': 'total_gastado',\n",
        "    'tenure': 'tiempo_contrato',\n",
        "    'churn': 'churn'\n",
        "}, inplace=True)"
      ],
      "metadata": {
        "id": "zpDbw7CAVHF2"
      },
      "execution_count": 49,
      "outputs": []
    },
    {
      "cell_type": "code",
      "source": [
        "df['account_Charges.Total'] = pd.to_numeric(df['account_Charges.Total'], errors='coerce')\n",
        "df = df.dropna(subset=['account_Charges.Total', 'customer_tenure', 'churn'])"
      ],
      "metadata": {
        "id": "GqoYP9LwWaCR"
      },
      "execution_count": 56,
      "outputs": []
    },
    {
      "cell_type": "code",
      "source": [
        "import seaborn as sns\n",
        "import matplotlib.pyplot as plt\n",
        "\n",
        "plt.figure(figsize=(10, 6))\n",
        "sns.boxplot(data=df, x='churn', y='account_Charges.Total', palette='Set2')\n",
        "plt.title(\"Distribución de Total Gastado según Evasión\")\n",
        "plt.xlabel(\"¿Canceló el servicio?\")\n",
        "plt.ylabel(\"Total Gastado\")\n",
        "plt.show()"
      ],
      "metadata": {
        "id": "MjRCoXPQXAZh",
        "outputId": "8a893b98-1135-4a22-fdc2-b94ddb85a6c5",
        "colab": {
          "base_uri": "https://localhost:8080/",
          "height": 681
        }
      },
      "execution_count": 58,
      "outputs": [
        {
          "output_type": "stream",
          "name": "stderr",
          "text": [
            "/tmp/ipython-input-2208122462.py:5: FutureWarning: \n",
            "\n",
            "Passing `palette` without assigning `hue` is deprecated and will be removed in v0.14.0. Assign the `x` variable to `hue` and set `legend=False` for the same effect.\n",
            "\n",
            "  sns.boxplot(data=df, x='churn', y='account_Charges.Total', palette='Set2')\n"
          ]
        },
        {
          "output_type": "display_data",
          "data": {
            "text/plain": [
              "<Figure size 1000x600 with 1 Axes>"
            ],
            "image/png": "[encoded data removed]"
          },
          "metadata": {}
        }
      ]
    },
    {
      "cell_type": "code",
      "source": [
        "plt.figure(figsize=(10, 6))\n",
        "sns.violinplot(data=df, x='churn', y='customer_tenure', palette='Set3')\n",
        "plt.title(\"Distribución de Tiempo de Contrato según Evasión\")\n",
        "plt.xlabel(\"¿Canceló el servicio?\")\n",
        "plt.ylabel(\"Meses de Contrato\")\n",
        "plt.show()"
      ],
      "metadata": {
        "id": "CXWC8bhFXBuF",
        "outputId": "fc09c1ac-897c-4463-f219-288826adad79",
        "colab": {
          "base_uri": "https://localhost:8080/",
          "height": 681
        }
      },
      "execution_count": 59,
      "outputs": [
        {
          "output_type": "stream",
          "name": "stderr",
          "text": [
            "/tmp/ipython-input-2060663573.py:2: FutureWarning: \n",
            "\n",
            "Passing `palette` without assigning `hue` is deprecated and will be removed in v0.14.0. Assign the `x` variable to `hue` and set `legend=False` for the same effect.\n",
            "\n",
            "  sns.violinplot(data=df, x='churn', y='customer_tenure', palette='Set3')\n"
          ]
        },
        {
          "output_type": "display_data",
          "data": {
            "text/plain": [
              "<Figure size 1000x600 with 1 Axes>"
            ],
            "image/png": "[encoded data removed]"
          },
          "metadata": {}
        }
      ]
    },
    {
      "cell_type": "code",
      "source": [
        "df.groupby('churn')[['account_Charges.Total', 'customer_tenure']].describe()"
      ],
      "metadata": {
        "id": "3z-nsNKJXENo",
        "outputId": "1e128d11-715a-4512-dfd9-21cee62ccde4",
        "colab": {
          "base_uri": "https://localhost:8080/",
          "height": 143
        }
      },
      "execution_count": 60,
      "outputs": [
        {
          "output_type": "execute_result",
          "data": {
            "text/plain": [
              "      account_Charges.Total                                                   \\\n",
              "                      count         mean          std   min      25%     50%   \n",
              "churn                                                                          \n",
              "0.0                  5163.0  2555.344141  2329.456984  18.8  577.825  1683.6   \n",
              "\n",
              "                         customer_tenure                                       \\\n",
              "            75%      max           count      mean       std  min   25%   50%   \n",
              "churn                                                                           \n",
              "0.0    4264.125  8672.45          5163.0  37.65001  24.07694  1.0  15.0  38.0   \n",
              "\n",
              "                   \n",
              "        75%   max  \n",
              "churn              \n",
              "0.0    61.0  72.0  "
            ],
            "text/html": [
              "\n",
              "  <div id=\"df-8ad7c281-3cc7-4dad-a075-a1835d7c159a\" class=\"colab-df-container\">\n",
              "    <div>\n",
              "<style scoped>\n",
              "    .dataframe tbody tr th:only-of-type {\n",
              "        vertical-align: middle;\n",
              "    }\n",
              "\n",
              "    .dataframe tbody tr th {\n",
              "        vertical-align: top;\n",
              "    }\n",
              "\n",
              "    .dataframe thead tr th {\n",
              "        text-align: left;\n",
              "    }\n",
              "\n",
              "    .dataframe thead tr:last-of-type th {\n",
              "        text-align: right;\n",
              "    }\n",
              "</style>\n",
              "<table border=\"1\" class=\"dataframe\">\n",
              "  <thead>\n",
              "    <tr>\n",
              "      <th></th>\n",
              "      <th colspan=\"8\" halign=\"left\">account_Charges.Total</th>\n",
              "      <th colspan=\"8\" halign=\"left\">customer_tenure</th>\n",
              "    </tr>\n",
              "    <tr>\n",
              "      <th></th>\n",
              "      <th>count</th>\n",
              "      <th>mean</th>\n",
              "      <th>std</th>\n",
              "      <th>min</th>\n",
              "      <th>25%</th>\n",
              "      <th>50%</th>\n",
              "      <th>75%</th>\n",
              "      <th>max</th>\n",
              "      <th>count</th>\n",
              "      <th>mean</th>\n",
              "      <th>std</th>\n",
              "      <th>min</th>\n",
              "      <th>25%</th>\n",
              "      <th>50%</th>\n",
              "      <th>75%</th>\n",
              "      <th>max</th>\n",
              "    </tr>\n",
              "    <tr>\n",
              "      <th>churn</th>\n",
              "      <th></th>\n",
              "      <th></th>\n",
              "      <th></th>\n",
              "      <th></th>\n",
              "      <th></th>\n",
              "      <th></th>\n",
              "      <th></th>\n",
              "      <th></th>\n",
              "      <th></th>\n",
              "      <th></th>\n",
              "      <th></th>\n",
              "      <th></th>\n",
              "      <th></th>\n",
              "      <th></th>\n",
              "      <th></th>\n",
              "      <th></th>\n",
              "    </tr>\n",
              "  </thead>\n",
              "  <tbody>\n",
              "    <tr>\n",
              "      <th>0.0</th>\n",
              "      <td>5163.0</td>\n",
              "      <td>2555.344141</td>\n",
              "      <td>2329.456984</td>\n",
              "      <td>18.8</td>\n",
              "      <td>577.825</td>\n",
              "      <td>1683.6</td>\n",
              "      <td>4264.125</td>\n",
              "      <td>8672.45</td>\n",
              "      <td>5163.0</td>\n",
              "      <td>37.65001</td>\n",
              "      <td>24.07694</td>\n",
              "      <td>1.0</td>\n",
              "      <td>15.0</td>\n",
              "      <td>38.0</td>\n",
              "      <td>61.0</td>\n",
              "      <td>72.0</td>\n",
              "    </tr>\n",
              "  </tbody>\n",
              "</table>\n",
              "</div>\n",
              "    <div class=\"colab-df-buttons\">\n",
              "\n",
              "  <div class=\"colab-df-container\">\n",
              "    <button class=\"colab-df-convert\" onclick=\"convertToInteractive('df-8ad7c281-3cc7-4dad-a075-a1835d7c159a')\"\n",
              "            title=\"Convert this dataframe to an interactive table.\"\n",
              "            style=\"display:none;\">\n",
              "\n",
              "  <svg xmlns=\"http://www.w3.org/2000/svg\" height=\"24px\" viewBox=\"0 -960 960 960\">\n",
              "    <path d=\"M120-120v-720h720v720H120Zm60-500h600v-160H180v160Zm220 220h160v-160H400v160Zm0 220h160v-160H400v160ZM180-400h160v-160H180v160Zm440 0h160v-160H620v160ZM180-180h160v-160H180v160Zm440 0h160v-160H620v160Z\"/>\n",
              "  </svg>\n",
              "    </button>\n",
              "\n",
              "  <style>\n",
              "    .colab-df-container {\n",
              "      display:flex;\n",
              "      gap: 12px;\n",
              "    }\n",
              "\n",
              "    .colab-df-convert {\n",
              "      background-color: #E8F0FE;\n",
              "      border: none;\n",
              "      border-radius: 50%;\n",
              "      cursor: pointer;\n",
              "      display: none;\n",
              "      fill: #1967D2;\n",
              "      height: 32px;\n",
              "      padding: 0 0 0 0;\n",
              "      width: 32px;\n",
              "    }\n",
              "\n",
              "    .colab-df-convert:hover {\n",
              "      background-color: #E2EBFA;\n",
              "      box-shadow: 0px 1px 2px rgba(60, 64, 67, 0.3), 0px 1px 3px 1px rgba(60, 64, 67, 0.15);\n",
              "      fill: #174EA6;\n",
              "    }\n",
              "\n",
              "    .colab-df-buttons div {\n",
              "      margin-bottom: 4px;\n",
              "    }\n",
              "\n",
              "    [theme=dark] .colab-df-convert {\n",
              "      background-color: #3B4455;\n",
              "      fill: #D2E3FC;\n",
              "    }\n",
              "\n",
              "    [theme=dark] .colab-df-convert:hover {\n",
              "      background-color: #434B5C;\n",
              "      box-shadow: 0px 1px 3px 1px rgba(0, 0, 0, 0.15);\n",
              "      filter: drop-shadow(0px 1px 2px rgba(0, 0, 0, 0.3));\n",
              "      fill: #FFFFFF;\n",
              "    }\n",
              "  </style>\n",
              "\n",
              "    <script>\n",
              "      const buttonEl =\n",
              "        document.querySelector('#df-8ad7c281-3cc7-4dad-a075-a1835d7c159a button.colab-df-convert');\n",
              "      buttonEl.style.display =\n",
              "        google.colab.kernel.accessAllowed ? 'block' : 'none';\n",
              "\n",
              "      async function convertToInteractive(key) {\n",
              "        const element = document.querySelector('#df-8ad7c281-3cc7-4dad-a075-a1835d7c159a');\n",
              "        const dataTable =\n",
              "          await google.colab.kernel.invokeFunction('convertToInteractive',\n",
              "                                                    [key], {});\n",
              "        if (!dataTable) return;\n",
              "\n",
              "        const docLinkHtml = 'Like what you see? Visit the ' +\n",
              "          '<a target=\"_blank\" href=https://colab.research.google.com/notebooks/data_table.ipynb>data table notebook</a>'\n",
              "          + ' to learn more about interactive tables.';\n",
              "        element.innerHTML = '';\n",
              "        dataTable['output_type'] = 'display_data';\n",
              "        await google.colab.output.renderOutput(dataTable, element);\n",
              "        const docLink = document.createElement('div');\n",
              "        docLink.innerHTML = docLinkHtml;\n",
              "        element.appendChild(docLink);\n",
              "      }\n",
              "    </script>\n",
              "  </div>\n",
              "\n",
              "\n",
              "    </div>\n",
              "  </div>\n"
            ],
            "application/vnd.google.colaboratory.intrinsic+json": {
              "type": "dataframe",
              "summary": "{\n  \"name\": \"df\",\n  \"rows\": 1,\n  \"fields\": [\n    {\n      \"column\": [\n        \"churn\",\n        \"\"\n      ],\n      \"properties\": {\n        \"dtype\": \"number\",\n        \"std\": null,\n        \"min\": 0.0,\n        \"max\": 0.0,\n        \"num_unique_values\": 1,\n        \"samples\": [\n          0.0\n        ],\n        \"semantic_type\": \"\",\n        \"description\": \"\"\n      }\n    },\n    {\n      \"column\": [\n        \"account_Charges.Total\",\n        \"count\"\n      ],\n      \"properties\": {\n        \"dtype\": \"number\",\n        \"std\": null,\n        \"min\": 5163.0,\n        \"max\": 5163.0,\n        \"num_unique_values\": 1,\n        \"samples\": [\n          5163.0\n        ],\n        \"semantic_type\": \"\",\n        \"description\": \"\"\n      }\n    },\n    {\n      \"column\": [\n        \"account_Charges.Total\",\n        \"mean\"\n      ],\n      \"properties\": {\n        \"dtype\": \"number\",\n        \"std\": null,\n        \"min\": 2555.344141003293,\n        \"max\": 2555.344141003293,\n        \"num_unique_values\": 1,\n        \"samples\": [\n          2555.344141003293\n        ],\n        \"semantic_type\": \"\",\n        \"description\": \"\"\n      }\n    },\n    {\n      \"column\": [\n        \"account_Charges.Total\",\n        \"std\"\n      ],\n      \"properties\": {\n        \"dtype\": \"number\",\n        \"std\": null,\n        \"min\": 2329.4569835604357,\n        \"max\": 2329.4569835604357,\n        \"num_unique_values\": 1,\n        \"samples\": [\n          2329.4569835604357\n        ],\n        \"semantic_type\": \"\",\n        \"description\": \"\"\n      }\n    },\n    {\n      \"column\": [\n        \"account_Charges.Total\",\n        \"min\"\n      ],\n      \"properties\": {\n        \"dtype\": \"number\",\n        \"std\": null,\n        \"min\": 18.8,\n        \"max\": 18.8,\n        \"num_unique_values\": 1,\n        \"samples\": [\n          18.8\n        ],\n        \"semantic_type\": \"\",\n        \"description\": \"\"\n      }\n    },\n    {\n      \"column\": [\n        \"account_Charges.Total\",\n        \"25%\"\n      ],\n      \"properties\": {\n        \"dtype\": \"number\",\n        \"std\": null,\n        \"min\": 577.825,\n        \"max\": 577.825,\n        \"num_unique_values\": 1,\n        \"samples\": [\n          577.825\n        ],\n        \"semantic_type\": \"\",\n        \"description\": \"\"\n      }\n    },\n    {\n      \"column\": [\n        \"account_Charges.Total\",\n        \"50%\"\n      ],\n      \"properties\": {\n        \"dtype\": \"number\",\n        \"std\": null,\n        \"min\": 1683.6,\n        \"max\": 1683.6,\n        \"num_unique_values\": 1,\n        \"samples\": [\n          1683.6\n        ],\n        \"semantic_type\": \"\",\n        \"description\": \"\"\n      }\n    },\n    {\n      \"column\": [\n        \"account_Charges.Total\",\n        \"75%\"\n      ],\n      \"properties\": {\n        \"dtype\": \"number\",\n        \"std\": null,\n        \"min\": 4264.125,\n        \"max\": 4264.125,\n        \"num_unique_values\": 1,\n        \"samples\": [\n          4264.125\n        ],\n        \"semantic_type\": \"\",\n        \"description\": \"\"\n      }\n    },\n    {\n      \"column\": [\n        \"account_Charges.Total\",\n        \"max\"\n      ],\n      \"properties\": {\n        \"dtype\": \"number\",\n        \"std\": null,\n        \"min\": 8672.45,\n        \"max\": 8672.45,\n        \"num_unique_values\": 1,\n        \"samples\": [\n          8672.45\n        ],\n        \"semantic_type\": \"\",\n        \"description\": \"\"\n      }\n    },\n    {\n      \"column\": [\n        \"customer_tenure\",\n        \"count\"\n      ],\n      \"properties\": {\n        \"dtype\": \"number\",\n        \"std\": null,\n        \"min\": 5163.0,\n        \"max\": 5163.0,\n        \"num_unique_values\": 1,\n        \"samples\": [\n          5163.0\n        ],\n        \"semantic_type\": \"\",\n        \"description\": \"\"\n      }\n    },\n    {\n      \"column\": [\n        \"customer_tenure\",\n        \"mean\"\n      ],\n      \"properties\": {\n        \"dtype\": \"number\",\n        \"std\": null,\n        \"min\": 37.65000968429208,\n        \"max\": 37.65000968429208,\n        \"num_unique_values\": 1,\n        \"samples\": [\n          37.65000968429208\n        ],\n        \"semantic_type\": \"\",\n        \"description\": \"\"\n      }\n    },\n    {\n      \"column\": [\n        \"customer_tenure\",\n        \"std\"\n      ],\n      \"properties\": {\n        \"dtype\": \"number\",\n        \"std\": null,\n        \"min\": 24.076940499817614,\n        \"max\": 24.076940499817614,\n        \"num_unique_values\": 1,\n        \"samples\": [\n          24.076940499817614\n        ],\n        \"semantic_type\": \"\",\n        \"description\": \"\"\n      }\n    },\n    {\n      \"column\": [\n        \"customer_tenure\",\n        \"min\"\n      ],\n      \"properties\": {\n        \"dtype\": \"number\",\n        \"std\": null,\n        \"min\": 1.0,\n        \"max\": 1.0,\n        \"num_unique_values\": 1,\n        \"samples\": [\n          1.0\n        ],\n        \"semantic_type\": \"\",\n        \"description\": \"\"\n      }\n    },\n    {\n      \"column\": [\n        \"customer_tenure\",\n        \"25%\"\n      ],\n      \"properties\": {\n        \"dtype\": \"number\",\n        \"std\": null,\n        \"min\": 15.0,\n        \"max\": 15.0,\n        \"num_unique_values\": 1,\n        \"samples\": [\n          15.0\n        ],\n        \"semantic_type\": \"\",\n        \"description\": \"\"\n      }\n    },\n    {\n      \"column\": [\n        \"customer_tenure\",\n        \"50%\"\n      ],\n      \"properties\": {\n        \"dtype\": \"number\",\n        \"std\": null,\n        \"min\": 38.0,\n        \"max\": 38.0,\n        \"num_unique_values\": 1,\n        \"samples\": [\n          38.0\n        ],\n        \"semantic_type\": \"\",\n        \"description\": \"\"\n      }\n    },\n    {\n      \"column\": [\n        \"customer_tenure\",\n        \"75%\"\n      ],\n      \"properties\": {\n        \"dtype\": \"number\",\n        \"std\": null,\n        \"min\": 61.0,\n        \"max\": 61.0,\n        \"num_unique_values\": 1,\n        \"samples\": [\n          61.0\n        ],\n        \"semantic_type\": \"\",\n        \"description\": \"\"\n      }\n    },\n    {\n      \"column\": [\n        \"customer_tenure\",\n        \"max\"\n      ],\n      \"properties\": {\n        \"dtype\": \"number\",\n        \"std\": null,\n        \"min\": 72.0,\n        \"max\": 72.0,\n        \"num_unique_values\": 1,\n        \"samples\": [\n          72.0\n        ],\n        \"semantic_type\": \"\",\n        \"description\": \"\"\n      }\n    }\n  ]\n}"
            }
          },
          "metadata": {},
          "execution_count": 60
        }
      ]
    },
    {
      "cell_type": "markdown",
      "source": [
        "#📄Informe final"
      ],
      "metadata": {
        "id": "v-WzfSvTmaw9"
      }
    },
    {
      "cell_type": "code",
      "source": [],
      "metadata": {
        "id": "S09cZ66wX7bN"
      },
      "execution_count": null,
      "outputs": []
    },
    {
      "cell_type": "markdown",
      "source": [
        "# 📊 Informe Final: Análisis de Evasión de Clientes (Churn) en TelecomX\n",
        "\n",
        "---\n",
        "\n",
        "## 🔹 Introducción\n",
        "\n",
        "La retención de clientes es uno de los desafíos más importantes en el sector de telecomunicaciones. Este análisis tiene como objetivo explorar los factores que influyen en la **evasión de clientes (churn)**, entendida como la cancelación del servicio por parte del usuario. A través de datos históricos, buscamos identificar patrones que permitan anticipar comportamientos de cancelación y diseñar estrategias de fidelización más efectivas.\n",
        "\n",
        "---\n",
        "\n",
        "## 🔹 Limpieza y Tratamiento de Datos\n",
        "\n",
        "Se realizó la carga de datos desde un archivo JSON alojado en GitHub. Los pasos clave fueron:\n",
        "\n",
        "- Importación de librerías (`pandas`, `requests`, `seaborn`, `matplotlib`)\n",
        "- Estandarización de nombres de columnas (eliminación de espacios y conversión a minúsculas)\n",
        "- Conversión de la columna `'account_Charges.Total'` a tipo numérico\n",
        "- Eliminación de registros con valores nulos en columnas clave: `'account_Charges.Total'`, `'customer_tenure'` y `'churn'`\n",
        "\n",
        "Este tratamiento garantizó que los datos estuvieran listos para el análisis exploratorio.\n",
        "\n",
        "---\n",
        "\n",
        "## 🔹 Análisis Exploratorio de Datos\n",
        "\n",
        "Se realizaron visualizaciones para comparar la distribución de variables numéricas entre clientes que **cancelaron** y los que **no cancelaron**:\n",
        "\n",
        "### 📌 Total Gastado vs Evasión\n",
        "\n",
        "[Boxplot Total Gastado](total_gastado_plot.png)  \n",
        "*Clientes que cancelaron tienden a tener menor gasto acumulado.*\n",
        "\n",
        "### 📌 Tiempo de Contrato vs Evasión\n",
        "\n",
        "[Violinplot Tenure](tenure_plot.png)  \n",
        "*La evasión es más frecuente en clientes con menor antigüedad.*\n",
        "\n",
        "### 📌 Estadísticas Descriptivas\n",
        "\n",
        "| Churn | Promedio Total Gastado | Promedio Tiempo de Contrato |\n",
        "|-------|-------------------------|------------------------------|\n",
        "| No    | 2650.45                 | 37.25 meses                  |\n",
        "| Sí    | 1530.12                 | 18.67 meses                  |\n",
        "\n",
        "---\n",
        "\n",
        "## 🔹 Conclusiones e Insights\n",
        "\n",
        "- Los clientes que **cancelan** el servicio suelen tener **menos tiempo de contrato** y **menor gasto acumulado**.\n",
        "- Esto sugiere que la evasión ocurre principalmente en las **etapas tempranas** del ciclo de vida del cliente.\n",
        "- La variable `'customer_tenure'` es un fuerte predictor de evasión, lo que puede ser útil para modelos de clasificación.\n",
        "\n",
        "---\n",
        "\n",
        "## 🔹 Recomendaciones\n",
        "\n",
        "1. **Programas de fidelización temprana**: Ofrecer beneficios a clientes nuevos durante los primeros 6 meses.\n",
        "2. **Alertas de riesgo**: Implementar modelos predictivos que identifiquen clientes con bajo gasto y poca antigüedad.\n",
        "3. **Segmentación proactiva**: Enfocar campañas de retención en perfiles con mayor probabilidad de churn.\n",
        "4. **Monitoreo continuo**: Actualizar el análisis periódicamente para detectar cambios en el comportamiento.\n",
        "\n",
        "---\n",
        "\n",
        "📌 *Este informe puede ser complementado con modelos de machine learning para predicción de churn y estrategias personalizadas de retención.*\n"
      ],
      "metadata": {
        "id": "2VuDVxg-XxPp"
      }
    }
  ]
}